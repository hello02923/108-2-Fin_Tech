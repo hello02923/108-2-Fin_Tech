{
 "cells": [
  {
   "cell_type": "code",
   "execution_count": 1,
   "metadata": {
    "ExecuteTime": {
     "end_time": "2020-06-10T12:01:46.627508Z",
     "start_time": "2020-06-10T12:01:46.359381Z"
    }
   },
   "outputs": [],
   "source": [
    "import pandas as pd\n",
    "import numpy as np"
   ]
  },
  {
   "cell_type": "code",
   "execution_count": 2,
   "metadata": {
    "ExecuteTime": {
     "end_time": "2020-06-10T12:01:47.563891Z",
     "start_time": "2020-06-10T12:01:46.628452Z"
    }
   },
   "outputs": [],
   "source": [
    "import tensorflow as tf\n",
    "from tensorflow import keras\n",
    "import os"
   ]
  },
  {
   "cell_type": "code",
   "execution_count": 3,
   "metadata": {
    "ExecuteTime": {
     "end_time": "2020-06-10T12:01:47.581640Z",
     "start_time": "2020-06-10T12:01:47.565310Z"
    }
   },
   "outputs": [],
   "source": [
    "os.environ[\"CUDA_VISIBLE_DEVICES\"]= '1'\n",
    "gpus = tf.config.experimental.list_physical_devices(device_type='GPU')\n",
    "for gpu in gpus:\n",
    "    tf.config.experimental.set_memory_growth(gpu, True)"
   ]
  },
  {
   "cell_type": "code",
   "execution_count": 4,
   "metadata": {
    "ExecuteTime": {
     "end_time": "2020-06-10T12:01:48.947815Z",
     "start_time": "2020-06-10T12:01:47.582745Z"
    }
   },
   "outputs": [],
   "source": [
    "dataset = pd.read_csv('Final_Project_DecisionTree.csv')"
   ]
  },
  {
   "cell_type": "code",
   "execution_count": 5,
   "metadata": {
    "ExecuteTime": {
     "end_time": "2020-06-10T12:01:48.978060Z",
     "start_time": "2020-06-10T12:01:48.948946Z"
    }
   },
   "outputs": [
    {
     "data": {
      "text/html": [
       "<div>\n",
       "<style scoped>\n",
       "    .dataframe tbody tr th:only-of-type {\n",
       "        vertical-align: middle;\n",
       "    }\n",
       "\n",
       "    .dataframe tbody tr th {\n",
       "        vertical-align: top;\n",
       "    }\n",
       "\n",
       "    .dataframe thead th {\n",
       "        text-align: right;\n",
       "    }\n",
       "</style>\n",
       "<table border=\"1\" class=\"dataframe\">\n",
       "  <thead>\n",
       "    <tr style=\"text-align: right;\">\n",
       "      <th></th>\n",
       "      <th>Unnamed: 0</th>\n",
       "      <th>user_id</th>\n",
       "      <th>1605</th>\n",
       "      <th>2823</th>\n",
       "      <th>2884</th>\n",
       "      <th>2886</th>\n",
       "      <th>000980</th>\n",
       "      <th>0050</th>\n",
       "      <th>00642U</th>\n",
       "      <th>00672L</th>\n",
       "      <th>...</th>\n",
       "      <th>JBLU</th>\n",
       "      <th>IEX</th>\n",
       "      <th>3524</th>\n",
       "      <th>000026</th>\n",
       "      <th>B00028</th>\n",
       "      <th>CTL</th>\n",
       "      <th>GOF</th>\n",
       "      <th>SNHNI</th>\n",
       "      <th>stock_categories</th>\n",
       "      <th>freq</th>\n",
       "    </tr>\n",
       "  </thead>\n",
       "  <tbody>\n",
       "    <tr>\n",
       "      <td>0</td>\n",
       "      <td>0</td>\n",
       "      <td>1</td>\n",
       "      <td>0.0</td>\n",
       "      <td>0.0</td>\n",
       "      <td>24.0</td>\n",
       "      <td>0.0</td>\n",
       "      <td>8.0</td>\n",
       "      <td>20.0</td>\n",
       "      <td>8.0</td>\n",
       "      <td>200.0</td>\n",
       "      <td>...</td>\n",
       "      <td>0.0</td>\n",
       "      <td>0.0</td>\n",
       "      <td>0.0</td>\n",
       "      <td>0.0</td>\n",
       "      <td>0.0</td>\n",
       "      <td>0.0</td>\n",
       "      <td>0.0</td>\n",
       "      <td>0.0</td>\n",
       "      <td>傳產-塑膠</td>\n",
       "      <td>2</td>\n",
       "    </tr>\n",
       "    <tr>\n",
       "      <td>1</td>\n",
       "      <td>1</td>\n",
       "      <td>2</td>\n",
       "      <td>0.0</td>\n",
       "      <td>0.0</td>\n",
       "      <td>89.0</td>\n",
       "      <td>0.0</td>\n",
       "      <td>0.0</td>\n",
       "      <td>206.0</td>\n",
       "      <td>9.0</td>\n",
       "      <td>84.0</td>\n",
       "      <td>...</td>\n",
       "      <td>0.0</td>\n",
       "      <td>0.0</td>\n",
       "      <td>0.0</td>\n",
       "      <td>0.0</td>\n",
       "      <td>0.0</td>\n",
       "      <td>0.0</td>\n",
       "      <td>0.0</td>\n",
       "      <td>0.0</td>\n",
       "      <td>傳產-生技</td>\n",
       "      <td>7</td>\n",
       "    </tr>\n",
       "    <tr>\n",
       "      <td>2</td>\n",
       "      <td>2</td>\n",
       "      <td>5</td>\n",
       "      <td>0.0</td>\n",
       "      <td>0.0</td>\n",
       "      <td>0.0</td>\n",
       "      <td>0.0</td>\n",
       "      <td>0.0</td>\n",
       "      <td>378.0</td>\n",
       "      <td>0.0</td>\n",
       "      <td>0.0</td>\n",
       "      <td>...</td>\n",
       "      <td>0.0</td>\n",
       "      <td>0.0</td>\n",
       "      <td>0.0</td>\n",
       "      <td>0.0</td>\n",
       "      <td>0.0</td>\n",
       "      <td>0.0</td>\n",
       "      <td>0.0</td>\n",
       "      <td>0.0</td>\n",
       "      <td>傳產-塑膠</td>\n",
       "      <td>1</td>\n",
       "    </tr>\n",
       "    <tr>\n",
       "      <td>3</td>\n",
       "      <td>3</td>\n",
       "      <td>6</td>\n",
       "      <td>18.0</td>\n",
       "      <td>18.0</td>\n",
       "      <td>433.0</td>\n",
       "      <td>104.0</td>\n",
       "      <td>0.0</td>\n",
       "      <td>954.0</td>\n",
       "      <td>114.0</td>\n",
       "      <td>87.0</td>\n",
       "      <td>...</td>\n",
       "      <td>0.0</td>\n",
       "      <td>0.0</td>\n",
       "      <td>0.0</td>\n",
       "      <td>0.0</td>\n",
       "      <td>0.0</td>\n",
       "      <td>0.0</td>\n",
       "      <td>0.0</td>\n",
       "      <td>0.0</td>\n",
       "      <td>電子上游-IC-設計</td>\n",
       "      <td>6</td>\n",
       "    </tr>\n",
       "    <tr>\n",
       "      <td>4</td>\n",
       "      <td>4</td>\n",
       "      <td>8</td>\n",
       "      <td>0.0</td>\n",
       "      <td>0.0</td>\n",
       "      <td>29.0</td>\n",
       "      <td>120.0</td>\n",
       "      <td>0.0</td>\n",
       "      <td>0.0</td>\n",
       "      <td>0.0</td>\n",
       "      <td>0.0</td>\n",
       "      <td>...</td>\n",
       "      <td>0.0</td>\n",
       "      <td>0.0</td>\n",
       "      <td>0.0</td>\n",
       "      <td>0.0</td>\n",
       "      <td>0.0</td>\n",
       "      <td>0.0</td>\n",
       "      <td>0.0</td>\n",
       "      <td>0.0</td>\n",
       "      <td>傳產-生技</td>\n",
       "      <td>10</td>\n",
       "    </tr>\n",
       "    <tr>\n",
       "      <td>...</td>\n",
       "      <td>...</td>\n",
       "      <td>...</td>\n",
       "      <td>...</td>\n",
       "      <td>...</td>\n",
       "      <td>...</td>\n",
       "      <td>...</td>\n",
       "      <td>...</td>\n",
       "      <td>...</td>\n",
       "      <td>...</td>\n",
       "      <td>...</td>\n",
       "      <td>...</td>\n",
       "      <td>...</td>\n",
       "      <td>...</td>\n",
       "      <td>...</td>\n",
       "      <td>...</td>\n",
       "      <td>...</td>\n",
       "      <td>...</td>\n",
       "      <td>...</td>\n",
       "      <td>...</td>\n",
       "      <td>...</td>\n",
       "      <td>...</td>\n",
       "    </tr>\n",
       "    <tr>\n",
       "      <td>2018</td>\n",
       "      <td>2018</td>\n",
       "      <td>16270</td>\n",
       "      <td>0.0</td>\n",
       "      <td>0.0</td>\n",
       "      <td>0.0</td>\n",
       "      <td>0.0</td>\n",
       "      <td>0.0</td>\n",
       "      <td>0.0</td>\n",
       "      <td>0.0</td>\n",
       "      <td>0.0</td>\n",
       "      <td>...</td>\n",
       "      <td>0.0</td>\n",
       "      <td>0.0</td>\n",
       "      <td>0.0</td>\n",
       "      <td>0.0</td>\n",
       "      <td>0.0</td>\n",
       "      <td>0.0</td>\n",
       "      <td>0.0</td>\n",
       "      <td>0.0</td>\n",
       "      <td>電子下游-太陽能</td>\n",
       "      <td>1</td>\n",
       "    </tr>\n",
       "    <tr>\n",
       "      <td>2019</td>\n",
       "      <td>2019</td>\n",
       "      <td>16297</td>\n",
       "      <td>0.0</td>\n",
       "      <td>0.0</td>\n",
       "      <td>0.0</td>\n",
       "      <td>0.0</td>\n",
       "      <td>0.0</td>\n",
       "      <td>0.0</td>\n",
       "      <td>0.0</td>\n",
       "      <td>0.0</td>\n",
       "      <td>...</td>\n",
       "      <td>0.0</td>\n",
       "      <td>0.0</td>\n",
       "      <td>0.0</td>\n",
       "      <td>0.0</td>\n",
       "      <td>0.0</td>\n",
       "      <td>0.0</td>\n",
       "      <td>0.0</td>\n",
       "      <td>0.0</td>\n",
       "      <td>電子中游-其他</td>\n",
       "      <td>2</td>\n",
       "    </tr>\n",
       "    <tr>\n",
       "      <td>2020</td>\n",
       "      <td>2020</td>\n",
       "      <td>16317</td>\n",
       "      <td>0.0</td>\n",
       "      <td>0.0</td>\n",
       "      <td>0.0</td>\n",
       "      <td>0.0</td>\n",
       "      <td>0.0</td>\n",
       "      <td>0.0</td>\n",
       "      <td>0.0</td>\n",
       "      <td>0.0</td>\n",
       "      <td>...</td>\n",
       "      <td>0.0</td>\n",
       "      <td>0.0</td>\n",
       "      <td>0.0</td>\n",
       "      <td>0.0</td>\n",
       "      <td>0.0</td>\n",
       "      <td>0.0</td>\n",
       "      <td>0.0</td>\n",
       "      <td>0.0</td>\n",
       "      <td>傳產-紡織纖維</td>\n",
       "      <td>2</td>\n",
       "    </tr>\n",
       "    <tr>\n",
       "      <td>2021</td>\n",
       "      <td>2021</td>\n",
       "      <td>16387</td>\n",
       "      <td>0.0</td>\n",
       "      <td>0.0</td>\n",
       "      <td>0.0</td>\n",
       "      <td>0.0</td>\n",
       "      <td>0.0</td>\n",
       "      <td>0.0</td>\n",
       "      <td>0.0</td>\n",
       "      <td>0.0</td>\n",
       "      <td>...</td>\n",
       "      <td>0.0</td>\n",
       "      <td>0.0</td>\n",
       "      <td>0.0</td>\n",
       "      <td>0.0</td>\n",
       "      <td>0.0</td>\n",
       "      <td>0.0</td>\n",
       "      <td>0.0</td>\n",
       "      <td>0.0</td>\n",
       "      <td>傳產-塑膠</td>\n",
       "      <td>2</td>\n",
       "    </tr>\n",
       "    <tr>\n",
       "      <td>2022</td>\n",
       "      <td>2022</td>\n",
       "      <td>16532</td>\n",
       "      <td>0.0</td>\n",
       "      <td>0.0</td>\n",
       "      <td>0.0</td>\n",
       "      <td>0.0</td>\n",
       "      <td>0.0</td>\n",
       "      <td>0.0</td>\n",
       "      <td>0.0</td>\n",
       "      <td>0.0</td>\n",
       "      <td>...</td>\n",
       "      <td>0.0</td>\n",
       "      <td>0.0</td>\n",
       "      <td>0.0</td>\n",
       "      <td>0.0</td>\n",
       "      <td>0.0</td>\n",
       "      <td>0.0</td>\n",
       "      <td>0.0</td>\n",
       "      <td>0.0</td>\n",
       "      <td>電子下游-手機製造</td>\n",
       "      <td>2</td>\n",
       "    </tr>\n",
       "  </tbody>\n",
       "</table>\n",
       "<p>2023 rows × 4119 columns</p>\n",
       "</div>"
      ],
      "text/plain": [
       "      Unnamed: 0  user_id  1605  2823   2884   2886  000980   0050  00642U  \\\n",
       "0              0        1   0.0   0.0   24.0    0.0     8.0   20.0     8.0   \n",
       "1              1        2   0.0   0.0   89.0    0.0     0.0  206.0     9.0   \n",
       "2              2        5   0.0   0.0    0.0    0.0     0.0  378.0     0.0   \n",
       "3              3        6  18.0  18.0  433.0  104.0     0.0  954.0   114.0   \n",
       "4              4        8   0.0   0.0   29.0  120.0     0.0    0.0     0.0   \n",
       "...          ...      ...   ...   ...    ...    ...     ...    ...     ...   \n",
       "2018        2018    16270   0.0   0.0    0.0    0.0     0.0    0.0     0.0   \n",
       "2019        2019    16297   0.0   0.0    0.0    0.0     0.0    0.0     0.0   \n",
       "2020        2020    16317   0.0   0.0    0.0    0.0     0.0    0.0     0.0   \n",
       "2021        2021    16387   0.0   0.0    0.0    0.0     0.0    0.0     0.0   \n",
       "2022        2022    16532   0.0   0.0    0.0    0.0     0.0    0.0     0.0   \n",
       "\n",
       "      00672L  ...  JBLU  IEX  3524  000026  B00028  CTL  GOF  SNHNI  \\\n",
       "0      200.0  ...   0.0  0.0   0.0     0.0     0.0  0.0  0.0    0.0   \n",
       "1       84.0  ...   0.0  0.0   0.0     0.0     0.0  0.0  0.0    0.0   \n",
       "2        0.0  ...   0.0  0.0   0.0     0.0     0.0  0.0  0.0    0.0   \n",
       "3       87.0  ...   0.0  0.0   0.0     0.0     0.0  0.0  0.0    0.0   \n",
       "4        0.0  ...   0.0  0.0   0.0     0.0     0.0  0.0  0.0    0.0   \n",
       "...      ...  ...   ...  ...   ...     ...     ...  ...  ...    ...   \n",
       "2018     0.0  ...   0.0  0.0   0.0     0.0     0.0  0.0  0.0    0.0   \n",
       "2019     0.0  ...   0.0  0.0   0.0     0.0     0.0  0.0  0.0    0.0   \n",
       "2020     0.0  ...   0.0  0.0   0.0     0.0     0.0  0.0  0.0    0.0   \n",
       "2021     0.0  ...   0.0  0.0   0.0     0.0     0.0  0.0  0.0    0.0   \n",
       "2022     0.0  ...   0.0  0.0   0.0     0.0     0.0  0.0  0.0    0.0   \n",
       "\n",
       "      stock_categories  freq  \n",
       "0                傳產-塑膠     2  \n",
       "1                傳產-生技     7  \n",
       "2                傳產-塑膠     1  \n",
       "3           電子上游-IC-設計     6  \n",
       "4                傳產-生技    10  \n",
       "...                ...   ...  \n",
       "2018          電子下游-太陽能     1  \n",
       "2019           電子中游-其他     2  \n",
       "2020           傳產-紡織纖維     2  \n",
       "2021             傳產-塑膠     2  \n",
       "2022         電子下游-手機製造     2  \n",
       "\n",
       "[2023 rows x 4119 columns]"
      ]
     },
     "execution_count": 5,
     "metadata": {},
     "output_type": "execute_result"
    }
   ],
   "source": [
    "dataset"
   ]
  },
  {
   "cell_type": "code",
   "execution_count": 6,
   "metadata": {
    "ExecuteTime": {
     "end_time": "2020-06-10T12:01:48.999487Z",
     "start_time": "2020-06-10T12:01:48.979041Z"
    }
   },
   "outputs": [],
   "source": [
    "dataset = dataset.drop(['Unnamed: 0'],axis = 1)"
   ]
  },
  {
   "cell_type": "code",
   "execution_count": 7,
   "metadata": {
    "ExecuteTime": {
     "end_time": "2020-06-10T12:01:49.031516Z",
     "start_time": "2020-06-10T12:01:49.000751Z"
    }
   },
   "outputs": [
    {
     "data": {
      "text/html": [
       "<div>\n",
       "<style scoped>\n",
       "    .dataframe tbody tr th:only-of-type {\n",
       "        vertical-align: middle;\n",
       "    }\n",
       "\n",
       "    .dataframe tbody tr th {\n",
       "        vertical-align: top;\n",
       "    }\n",
       "\n",
       "    .dataframe thead th {\n",
       "        text-align: right;\n",
       "    }\n",
       "</style>\n",
       "<table border=\"1\" class=\"dataframe\">\n",
       "  <thead>\n",
       "    <tr style=\"text-align: right;\">\n",
       "      <th></th>\n",
       "      <th>user_id</th>\n",
       "      <th>1605</th>\n",
       "      <th>2823</th>\n",
       "      <th>2884</th>\n",
       "      <th>2886</th>\n",
       "      <th>000980</th>\n",
       "      <th>0050</th>\n",
       "      <th>00642U</th>\n",
       "      <th>00672L</th>\n",
       "      <th>00757</th>\n",
       "      <th>...</th>\n",
       "      <th>JBLU</th>\n",
       "      <th>IEX</th>\n",
       "      <th>3524</th>\n",
       "      <th>000026</th>\n",
       "      <th>B00028</th>\n",
       "      <th>CTL</th>\n",
       "      <th>GOF</th>\n",
       "      <th>SNHNI</th>\n",
       "      <th>stock_categories</th>\n",
       "      <th>freq</th>\n",
       "    </tr>\n",
       "  </thead>\n",
       "  <tbody>\n",
       "    <tr>\n",
       "      <td>0</td>\n",
       "      <td>1</td>\n",
       "      <td>0.0</td>\n",
       "      <td>0.0</td>\n",
       "      <td>24.0</td>\n",
       "      <td>0.0</td>\n",
       "      <td>8.0</td>\n",
       "      <td>20.0</td>\n",
       "      <td>8.0</td>\n",
       "      <td>200.0</td>\n",
       "      <td>9.0</td>\n",
       "      <td>...</td>\n",
       "      <td>0.0</td>\n",
       "      <td>0.0</td>\n",
       "      <td>0.0</td>\n",
       "      <td>0.0</td>\n",
       "      <td>0.0</td>\n",
       "      <td>0.0</td>\n",
       "      <td>0.0</td>\n",
       "      <td>0.0</td>\n",
       "      <td>傳產-塑膠</td>\n",
       "      <td>2</td>\n",
       "    </tr>\n",
       "    <tr>\n",
       "      <td>1</td>\n",
       "      <td>2</td>\n",
       "      <td>0.0</td>\n",
       "      <td>0.0</td>\n",
       "      <td>89.0</td>\n",
       "      <td>0.0</td>\n",
       "      <td>0.0</td>\n",
       "      <td>206.0</td>\n",
       "      <td>9.0</td>\n",
       "      <td>84.0</td>\n",
       "      <td>9.0</td>\n",
       "      <td>...</td>\n",
       "      <td>0.0</td>\n",
       "      <td>0.0</td>\n",
       "      <td>0.0</td>\n",
       "      <td>0.0</td>\n",
       "      <td>0.0</td>\n",
       "      <td>0.0</td>\n",
       "      <td>0.0</td>\n",
       "      <td>0.0</td>\n",
       "      <td>傳產-生技</td>\n",
       "      <td>7</td>\n",
       "    </tr>\n",
       "    <tr>\n",
       "      <td>2</td>\n",
       "      <td>5</td>\n",
       "      <td>0.0</td>\n",
       "      <td>0.0</td>\n",
       "      <td>0.0</td>\n",
       "      <td>0.0</td>\n",
       "      <td>0.0</td>\n",
       "      <td>378.0</td>\n",
       "      <td>0.0</td>\n",
       "      <td>0.0</td>\n",
       "      <td>0.0</td>\n",
       "      <td>...</td>\n",
       "      <td>0.0</td>\n",
       "      <td>0.0</td>\n",
       "      <td>0.0</td>\n",
       "      <td>0.0</td>\n",
       "      <td>0.0</td>\n",
       "      <td>0.0</td>\n",
       "      <td>0.0</td>\n",
       "      <td>0.0</td>\n",
       "      <td>傳產-塑膠</td>\n",
       "      <td>1</td>\n",
       "    </tr>\n",
       "    <tr>\n",
       "      <td>3</td>\n",
       "      <td>6</td>\n",
       "      <td>18.0</td>\n",
       "      <td>18.0</td>\n",
       "      <td>433.0</td>\n",
       "      <td>104.0</td>\n",
       "      <td>0.0</td>\n",
       "      <td>954.0</td>\n",
       "      <td>114.0</td>\n",
       "      <td>87.0</td>\n",
       "      <td>81.0</td>\n",
       "      <td>...</td>\n",
       "      <td>0.0</td>\n",
       "      <td>0.0</td>\n",
       "      <td>0.0</td>\n",
       "      <td>0.0</td>\n",
       "      <td>0.0</td>\n",
       "      <td>0.0</td>\n",
       "      <td>0.0</td>\n",
       "      <td>0.0</td>\n",
       "      <td>電子上游-IC-設計</td>\n",
       "      <td>6</td>\n",
       "    </tr>\n",
       "    <tr>\n",
       "      <td>4</td>\n",
       "      <td>8</td>\n",
       "      <td>0.0</td>\n",
       "      <td>0.0</td>\n",
       "      <td>29.0</td>\n",
       "      <td>120.0</td>\n",
       "      <td>0.0</td>\n",
       "      <td>0.0</td>\n",
       "      <td>0.0</td>\n",
       "      <td>0.0</td>\n",
       "      <td>0.0</td>\n",
       "      <td>...</td>\n",
       "      <td>0.0</td>\n",
       "      <td>0.0</td>\n",
       "      <td>0.0</td>\n",
       "      <td>0.0</td>\n",
       "      <td>0.0</td>\n",
       "      <td>0.0</td>\n",
       "      <td>0.0</td>\n",
       "      <td>0.0</td>\n",
       "      <td>傳產-生技</td>\n",
       "      <td>10</td>\n",
       "    </tr>\n",
       "    <tr>\n",
       "      <td>...</td>\n",
       "      <td>...</td>\n",
       "      <td>...</td>\n",
       "      <td>...</td>\n",
       "      <td>...</td>\n",
       "      <td>...</td>\n",
       "      <td>...</td>\n",
       "      <td>...</td>\n",
       "      <td>...</td>\n",
       "      <td>...</td>\n",
       "      <td>...</td>\n",
       "      <td>...</td>\n",
       "      <td>...</td>\n",
       "      <td>...</td>\n",
       "      <td>...</td>\n",
       "      <td>...</td>\n",
       "      <td>...</td>\n",
       "      <td>...</td>\n",
       "      <td>...</td>\n",
       "      <td>...</td>\n",
       "      <td>...</td>\n",
       "      <td>...</td>\n",
       "    </tr>\n",
       "    <tr>\n",
       "      <td>2018</td>\n",
       "      <td>16270</td>\n",
       "      <td>0.0</td>\n",
       "      <td>0.0</td>\n",
       "      <td>0.0</td>\n",
       "      <td>0.0</td>\n",
       "      <td>0.0</td>\n",
       "      <td>0.0</td>\n",
       "      <td>0.0</td>\n",
       "      <td>0.0</td>\n",
       "      <td>0.0</td>\n",
       "      <td>...</td>\n",
       "      <td>0.0</td>\n",
       "      <td>0.0</td>\n",
       "      <td>0.0</td>\n",
       "      <td>0.0</td>\n",
       "      <td>0.0</td>\n",
       "      <td>0.0</td>\n",
       "      <td>0.0</td>\n",
       "      <td>0.0</td>\n",
       "      <td>電子下游-太陽能</td>\n",
       "      <td>1</td>\n",
       "    </tr>\n",
       "    <tr>\n",
       "      <td>2019</td>\n",
       "      <td>16297</td>\n",
       "      <td>0.0</td>\n",
       "      <td>0.0</td>\n",
       "      <td>0.0</td>\n",
       "      <td>0.0</td>\n",
       "      <td>0.0</td>\n",
       "      <td>0.0</td>\n",
       "      <td>0.0</td>\n",
       "      <td>0.0</td>\n",
       "      <td>0.0</td>\n",
       "      <td>...</td>\n",
       "      <td>0.0</td>\n",
       "      <td>0.0</td>\n",
       "      <td>0.0</td>\n",
       "      <td>0.0</td>\n",
       "      <td>0.0</td>\n",
       "      <td>0.0</td>\n",
       "      <td>0.0</td>\n",
       "      <td>0.0</td>\n",
       "      <td>電子中游-其他</td>\n",
       "      <td>2</td>\n",
       "    </tr>\n",
       "    <tr>\n",
       "      <td>2020</td>\n",
       "      <td>16317</td>\n",
       "      <td>0.0</td>\n",
       "      <td>0.0</td>\n",
       "      <td>0.0</td>\n",
       "      <td>0.0</td>\n",
       "      <td>0.0</td>\n",
       "      <td>0.0</td>\n",
       "      <td>0.0</td>\n",
       "      <td>0.0</td>\n",
       "      <td>0.0</td>\n",
       "      <td>...</td>\n",
       "      <td>0.0</td>\n",
       "      <td>0.0</td>\n",
       "      <td>0.0</td>\n",
       "      <td>0.0</td>\n",
       "      <td>0.0</td>\n",
       "      <td>0.0</td>\n",
       "      <td>0.0</td>\n",
       "      <td>0.0</td>\n",
       "      <td>傳產-紡織纖維</td>\n",
       "      <td>2</td>\n",
       "    </tr>\n",
       "    <tr>\n",
       "      <td>2021</td>\n",
       "      <td>16387</td>\n",
       "      <td>0.0</td>\n",
       "      <td>0.0</td>\n",
       "      <td>0.0</td>\n",
       "      <td>0.0</td>\n",
       "      <td>0.0</td>\n",
       "      <td>0.0</td>\n",
       "      <td>0.0</td>\n",
       "      <td>0.0</td>\n",
       "      <td>0.0</td>\n",
       "      <td>...</td>\n",
       "      <td>0.0</td>\n",
       "      <td>0.0</td>\n",
       "      <td>0.0</td>\n",
       "      <td>0.0</td>\n",
       "      <td>0.0</td>\n",
       "      <td>0.0</td>\n",
       "      <td>0.0</td>\n",
       "      <td>0.0</td>\n",
       "      <td>傳產-塑膠</td>\n",
       "      <td>2</td>\n",
       "    </tr>\n",
       "    <tr>\n",
       "      <td>2022</td>\n",
       "      <td>16532</td>\n",
       "      <td>0.0</td>\n",
       "      <td>0.0</td>\n",
       "      <td>0.0</td>\n",
       "      <td>0.0</td>\n",
       "      <td>0.0</td>\n",
       "      <td>0.0</td>\n",
       "      <td>0.0</td>\n",
       "      <td>0.0</td>\n",
       "      <td>0.0</td>\n",
       "      <td>...</td>\n",
       "      <td>0.0</td>\n",
       "      <td>0.0</td>\n",
       "      <td>0.0</td>\n",
       "      <td>0.0</td>\n",
       "      <td>0.0</td>\n",
       "      <td>0.0</td>\n",
       "      <td>0.0</td>\n",
       "      <td>0.0</td>\n",
       "      <td>電子下游-手機製造</td>\n",
       "      <td>2</td>\n",
       "    </tr>\n",
       "  </tbody>\n",
       "</table>\n",
       "<p>2023 rows × 4118 columns</p>\n",
       "</div>"
      ],
      "text/plain": [
       "      user_id  1605  2823   2884   2886  000980   0050  00642U  00672L  00757  \\\n",
       "0           1   0.0   0.0   24.0    0.0     8.0   20.0     8.0   200.0    9.0   \n",
       "1           2   0.0   0.0   89.0    0.0     0.0  206.0     9.0    84.0    9.0   \n",
       "2           5   0.0   0.0    0.0    0.0     0.0  378.0     0.0     0.0    0.0   \n",
       "3           6  18.0  18.0  433.0  104.0     0.0  954.0   114.0    87.0   81.0   \n",
       "4           8   0.0   0.0   29.0  120.0     0.0    0.0     0.0     0.0    0.0   \n",
       "...       ...   ...   ...    ...    ...     ...    ...     ...     ...    ...   \n",
       "2018    16270   0.0   0.0    0.0    0.0     0.0    0.0     0.0     0.0    0.0   \n",
       "2019    16297   0.0   0.0    0.0    0.0     0.0    0.0     0.0     0.0    0.0   \n",
       "2020    16317   0.0   0.0    0.0    0.0     0.0    0.0     0.0     0.0    0.0   \n",
       "2021    16387   0.0   0.0    0.0    0.0     0.0    0.0     0.0     0.0    0.0   \n",
       "2022    16532   0.0   0.0    0.0    0.0     0.0    0.0     0.0     0.0    0.0   \n",
       "\n",
       "      ...  JBLU  IEX  3524  000026  B00028  CTL  GOF  SNHNI  stock_categories  \\\n",
       "0     ...   0.0  0.0   0.0     0.0     0.0  0.0  0.0    0.0             傳產-塑膠   \n",
       "1     ...   0.0  0.0   0.0     0.0     0.0  0.0  0.0    0.0             傳產-生技   \n",
       "2     ...   0.0  0.0   0.0     0.0     0.0  0.0  0.0    0.0             傳產-塑膠   \n",
       "3     ...   0.0  0.0   0.0     0.0     0.0  0.0  0.0    0.0        電子上游-IC-設計   \n",
       "4     ...   0.0  0.0   0.0     0.0     0.0  0.0  0.0    0.0             傳產-生技   \n",
       "...   ...   ...  ...   ...     ...     ...  ...  ...    ...               ...   \n",
       "2018  ...   0.0  0.0   0.0     0.0     0.0  0.0  0.0    0.0          電子下游-太陽能   \n",
       "2019  ...   0.0  0.0   0.0     0.0     0.0  0.0  0.0    0.0           電子中游-其他   \n",
       "2020  ...   0.0  0.0   0.0     0.0     0.0  0.0  0.0    0.0           傳產-紡織纖維   \n",
       "2021  ...   0.0  0.0   0.0     0.0     0.0  0.0  0.0    0.0             傳產-塑膠   \n",
       "2022  ...   0.0  0.0   0.0     0.0     0.0  0.0  0.0    0.0         電子下游-手機製造   \n",
       "\n",
       "      freq  \n",
       "0        2  \n",
       "1        7  \n",
       "2        1  \n",
       "3        6  \n",
       "4       10  \n",
       "...    ...  \n",
       "2018     1  \n",
       "2019     2  \n",
       "2020     2  \n",
       "2021     2  \n",
       "2022     2  \n",
       "\n",
       "[2023 rows x 4118 columns]"
      ]
     },
     "execution_count": 7,
     "metadata": {},
     "output_type": "execute_result"
    }
   ],
   "source": [
    "dataset"
   ]
  },
  {
   "cell_type": "code",
   "execution_count": 8,
   "metadata": {
    "ExecuteTime": {
     "end_time": "2020-06-10T12:01:49.052989Z",
     "start_time": "2020-06-10T12:01:49.033293Z"
    }
   },
   "outputs": [],
   "source": [
    "x = dataset.iloc[:,1:-2].values\n",
    "y = dataset.iloc[:,-2].values"
   ]
  },
  {
   "cell_type": "code",
   "execution_count": 9,
   "metadata": {
    "ExecuteTime": {
     "end_time": "2020-06-10T12:01:49.059173Z",
     "start_time": "2020-06-10T12:01:49.054637Z"
    }
   },
   "outputs": [],
   "source": [
    "y = pd.get_dummies(y).to_numpy()"
   ]
  },
  {
   "cell_type": "code",
   "execution_count": 10,
   "metadata": {
    "ExecuteTime": {
     "end_time": "2020-06-10T12:01:49.063805Z",
     "start_time": "2020-06-10T12:01:49.060647Z"
    }
   },
   "outputs": [
    {
     "data": {
      "text/plain": [
       "(2023, 4115)"
      ]
     },
     "execution_count": 10,
     "metadata": {},
     "output_type": "execute_result"
    }
   ],
   "source": [
    "x.shape"
   ]
  },
  {
   "cell_type": "code",
   "execution_count": 11,
   "metadata": {
    "ExecuteTime": {
     "end_time": "2020-06-10T12:01:49.066406Z",
     "start_time": "2020-06-10T12:01:49.064710Z"
    }
   },
   "outputs": [],
   "source": [
    "y = y.reshape(-1,66)"
   ]
  },
  {
   "cell_type": "code",
   "execution_count": 12,
   "metadata": {
    "ExecuteTime": {
     "end_time": "2020-06-10T12:01:49.069491Z",
     "start_time": "2020-06-10T12:01:49.067287Z"
    }
   },
   "outputs": [
    {
     "data": {
      "text/plain": [
       "(2023, 66)"
      ]
     },
     "execution_count": 12,
     "metadata": {},
     "output_type": "execute_result"
    }
   ],
   "source": [
    "y.shape"
   ]
  },
  {
   "cell_type": "code",
   "execution_count": 13,
   "metadata": {
    "ExecuteTime": {
     "end_time": "2020-06-10T12:01:49.236623Z",
     "start_time": "2020-06-10T12:01:49.070307Z"
    }
   },
   "outputs": [],
   "source": [
    "from sklearn.model_selection import train_test_split"
   ]
  },
  {
   "cell_type": "code",
   "execution_count": 14,
   "metadata": {
    "ExecuteTime": {
     "end_time": "2020-06-10T12:01:49.311508Z",
     "start_time": "2020-06-10T12:01:49.237876Z"
    }
   },
   "outputs": [],
   "source": [
    "x_train,x_val,y_train,y_val = train_test_split(x,y,test_size = 0.1,random_state = 1)"
   ]
  },
  {
   "cell_type": "code",
   "execution_count": 15,
   "metadata": {
    "ExecuteTime": {
     "end_time": "2020-06-10T12:01:49.314640Z",
     "start_time": "2020-06-10T12:01:49.312431Z"
    }
   },
   "outputs": [
    {
     "data": {
      "text/plain": [
       "(1820, 66)"
      ]
     },
     "execution_count": 15,
     "metadata": {},
     "output_type": "execute_result"
    }
   ],
   "source": [
    "y_train.shape"
   ]
  },
  {
   "cell_type": "code",
   "execution_count": 16,
   "metadata": {
    "ExecuteTime": {
     "end_time": "2020-06-10T12:01:49.318319Z",
     "start_time": "2020-06-10T12:01:49.315522Z"
    }
   },
   "outputs": [
    {
     "data": {
      "text/plain": [
       "array([[0, 0, 0, ..., 0, 0, 0],\n",
       "       [0, 0, 0, ..., 0, 0, 0],\n",
       "       [0, 0, 0, ..., 0, 0, 0],\n",
       "       ...,\n",
       "       [0, 0, 0, ..., 0, 0, 0],\n",
       "       [0, 0, 0, ..., 0, 0, 0],\n",
       "       [0, 0, 0, ..., 0, 0, 0]], dtype=uint8)"
      ]
     },
     "execution_count": 16,
     "metadata": {},
     "output_type": "execute_result"
    }
   ],
   "source": [
    "y_train"
   ]
  },
  {
   "cell_type": "code",
   "execution_count": 17,
   "metadata": {
    "ExecuteTime": {
     "end_time": "2020-06-10T12:01:50.026311Z",
     "start_time": "2020-06-10T12:01:49.319614Z"
    }
   },
   "outputs": [],
   "source": [
    "model = keras.models.Sequential()\n",
    "model.add(keras.layers.Dense(2000, activation=\"tanh\",input_shape = (4115,)))\n",
    "model.add(keras.layers.Dense(1000, activation=\"tanh\"))\n",
    "model.add(keras.layers.Dense(500, activation=\"tanh\"))\n",
    "model.add(keras.layers.Dense(250, activation=\"tanh\"))\n",
    "model.add(keras.layers.Dense(100, activation=\"tanh\"))\n",
    "model.add(keras.layers.Dense(66, activation=\"softmax\"))"
   ]
  },
  {
   "cell_type": "code",
   "execution_count": 18,
   "metadata": {
    "ExecuteTime": {
     "end_time": "2020-06-10T12:01:50.036125Z",
     "start_time": "2020-06-10T12:01:50.027718Z"
    }
   },
   "outputs": [
    {
     "name": "stdout",
     "output_type": "stream",
     "text": [
      "Model: \"sequential\"\n",
      "_________________________________________________________________\n",
      "Layer (type)                 Output Shape              Param #   \n",
      "=================================================================\n",
      "dense (Dense)                (None, 2000)              8232000   \n",
      "_________________________________________________________________\n",
      "dense_1 (Dense)              (None, 1000)              2001000   \n",
      "_________________________________________________________________\n",
      "dense_2 (Dense)              (None, 500)               500500    \n",
      "_________________________________________________________________\n",
      "dense_3 (Dense)              (None, 250)               125250    \n",
      "_________________________________________________________________\n",
      "dense_4 (Dense)              (None, 100)               25100     \n",
      "_________________________________________________________________\n",
      "dense_5 (Dense)              (None, 66)                6666      \n",
      "=================================================================\n",
      "Total params: 10,890,516\n",
      "Trainable params: 10,890,516\n",
      "Non-trainable params: 0\n",
      "_________________________________________________________________\n"
     ]
    }
   ],
   "source": [
    "model.summary()"
   ]
  },
  {
   "cell_type": "code",
   "execution_count": 19,
   "metadata": {
    "ExecuteTime": {
     "end_time": "2020-06-10T12:01:50.080624Z",
     "start_time": "2020-06-10T12:01:50.037549Z"
    }
   },
   "outputs": [],
   "source": [
    "model.compile(loss=\"categorical_crossentropy\",\n",
    "              optimizer=\"adam\",\n",
    "              metrics=[\"accuracy\"])"
   ]
  },
  {
   "cell_type": "code",
   "execution_count": 20,
   "metadata": {
    "ExecuteTime": {
     "end_time": "2020-06-10T12:01:50.084084Z",
     "start_time": "2020-06-10T12:01:50.081883Z"
    }
   },
   "outputs": [],
   "source": [
    "logdir = 'NN_Fintech'\n",
    "callbacks = keras.callbacks.TensorBoard(log_dir = logdir)"
   ]
  },
  {
   "cell_type": "code",
   "execution_count": 21,
   "metadata": {
    "ExecuteTime": {
     "end_time": "2020-06-10T12:02:01.949037Z",
     "start_time": "2020-06-10T12:01:50.085471Z"
    }
   },
   "outputs": [
    {
     "name": "stdout",
     "output_type": "stream",
     "text": [
      "Train on 1820 samples, validate on 203 samples\n",
      "Epoch 1/50\n",
      "1820/1820 [==============================] - 1s 709us/sample - loss: 3.2284 - accuracy: 0.3165 - val_loss: 2.9015 - val_accuracy: 0.3645\n",
      "Epoch 2/50\n",
      "1820/1820 [==============================] - 0s 179us/sample - loss: 2.4237 - accuracy: 0.4830 - val_loss: 2.7327 - val_accuracy: 0.3990\n",
      "Epoch 3/50\n",
      "1820/1820 [==============================] - 0s 139us/sample - loss: 1.9752 - accuracy: 0.6038 - val_loss: 2.6394 - val_accuracy: 0.4335\n",
      "Epoch 4/50\n",
      "1820/1820 [==============================] - 0s 142us/sample - loss: 1.6348 - accuracy: 0.6890 - val_loss: 2.5772 - val_accuracy: 0.4433\n",
      "Epoch 5/50\n",
      "1820/1820 [==============================] - 0s 153us/sample - loss: 1.3545 - accuracy: 0.7632 - val_loss: 2.5424 - val_accuracy: 0.4532\n",
      "Epoch 6/50\n",
      "1820/1820 [==============================] - 0s 138us/sample - loss: 1.1356 - accuracy: 0.8165 - val_loss: 2.5309 - val_accuracy: 0.4483\n",
      "Epoch 7/50\n",
      "1820/1820 [==============================] - 0s 123us/sample - loss: 0.9495 - accuracy: 0.8610 - val_loss: 2.5462 - val_accuracy: 0.4433\n",
      "Epoch 8/50\n",
      "1820/1820 [==============================] - 0s 104us/sample - loss: 0.7973 - accuracy: 0.8896 - val_loss: 2.5262 - val_accuracy: 0.4631\n",
      "Epoch 9/50\n",
      "1820/1820 [==============================] - 0s 98us/sample - loss: 0.6836 - accuracy: 0.9187 - val_loss: 2.5764 - val_accuracy: 0.4433\n",
      "Epoch 10/50\n",
      "1820/1820 [==============================] - 0s 108us/sample - loss: 0.5935 - accuracy: 0.9324 - val_loss: 2.5734 - val_accuracy: 0.4581\n",
      "Epoch 11/50\n",
      "1820/1820 [==============================] - 0s 100us/sample - loss: 0.5200 - accuracy: 0.9429 - val_loss: 2.5954 - val_accuracy: 0.4631\n",
      "Epoch 12/50\n",
      "1820/1820 [==============================] - 0s 96us/sample - loss: 0.4518 - accuracy: 0.9516 - val_loss: 2.5973 - val_accuracy: 0.4631\n",
      "Epoch 13/50\n",
      "1820/1820 [==============================] - 0s 98us/sample - loss: 0.4077 - accuracy: 0.9505 - val_loss: 2.6028 - val_accuracy: 0.4384\n",
      "Epoch 14/50\n",
      "1820/1820 [==============================] - 0s 96us/sample - loss: 0.3608 - accuracy: 0.9615 - val_loss: 2.6309 - val_accuracy: 0.4335\n",
      "Epoch 15/50\n",
      "1820/1820 [==============================] - 0s 108us/sample - loss: 0.3281 - accuracy: 0.9681 - val_loss: 2.6487 - val_accuracy: 0.4286\n",
      "Epoch 16/50\n",
      "1820/1820 [==============================] - 0s 139us/sample - loss: 0.2994 - accuracy: 0.9703 - val_loss: 2.6335 - val_accuracy: 0.4433\n",
      "Epoch 17/50\n",
      "1820/1820 [==============================] - 0s 158us/sample - loss: 0.2738 - accuracy: 0.9731 - val_loss: 2.6565 - val_accuracy: 0.4236\n",
      "Epoch 18/50\n",
      "1820/1820 [==============================] - 0s 154us/sample - loss: 0.2556 - accuracy: 0.9764 - val_loss: 2.7241 - val_accuracy: 0.4187\n",
      "Epoch 19/50\n",
      "1820/1820 [==============================] - 0s 132us/sample - loss: 0.2389 - accuracy: 0.9758 - val_loss: 2.6797 - val_accuracy: 0.4384\n",
      "Epoch 20/50\n",
      "1820/1820 [==============================] - 0s 119us/sample - loss: 0.2243 - accuracy: 0.9797 - val_loss: 2.7039 - val_accuracy: 0.4384\n",
      "Epoch 21/50\n",
      "1820/1820 [==============================] - 0s 115us/sample - loss: 0.2093 - accuracy: 0.9813 - val_loss: 2.7329 - val_accuracy: 0.4286\n",
      "Epoch 22/50\n",
      "1820/1820 [==============================] - 0s 116us/sample - loss: 0.1988 - accuracy: 0.9802 - val_loss: 2.7617 - val_accuracy: 0.4039\n",
      "Epoch 23/50\n",
      "1820/1820 [==============================] - 0s 105us/sample - loss: 0.1829 - accuracy: 0.9846 - val_loss: 2.7788 - val_accuracy: 0.4039\n",
      "Epoch 24/50\n",
      "1820/1820 [==============================] - 0s 100us/sample - loss: 0.1719 - accuracy: 0.9841 - val_loss: 2.7475 - val_accuracy: 0.4138\n",
      "Epoch 25/50\n",
      "1820/1820 [==============================] - 0s 108us/sample - loss: 0.1658 - accuracy: 0.9852 - val_loss: 2.8584 - val_accuracy: 0.4138\n",
      "Epoch 26/50\n",
      "1820/1820 [==============================] - 0s 116us/sample - loss: 0.1559 - accuracy: 0.9852 - val_loss: 2.7803 - val_accuracy: 0.3990\n",
      "Epoch 27/50\n",
      "1820/1820 [==============================] - 0s 108us/sample - loss: 0.1494 - accuracy: 0.9879 - val_loss: 2.8058 - val_accuracy: 0.4089\n",
      "Epoch 28/50\n",
      "1820/1820 [==============================] - 0s 122us/sample - loss: 0.1424 - accuracy: 0.9874 - val_loss: 2.8197 - val_accuracy: 0.4236\n",
      "Epoch 29/50\n",
      "1820/1820 [==============================] - 0s 153us/sample - loss: 0.1380 - accuracy: 0.9857 - val_loss: 2.8428 - val_accuracy: 0.3990\n",
      "Epoch 30/50\n",
      "1820/1820 [==============================] - 0s 120us/sample - loss: 0.1324 - accuracy: 0.9868 - val_loss: 2.8794 - val_accuracy: 0.3990\n",
      "Epoch 31/50\n",
      "1820/1820 [==============================] - 0s 109us/sample - loss: 0.1252 - accuracy: 0.9890 - val_loss: 2.8545 - val_accuracy: 0.4187\n",
      "Epoch 32/50\n",
      "1820/1820 [==============================] - 0s 107us/sample - loss: 0.1225 - accuracy: 0.9890 - val_loss: 2.8950 - val_accuracy: 0.4039\n",
      "Epoch 33/50\n",
      "1820/1820 [==============================] - 0s 103us/sample - loss: 0.1160 - accuracy: 0.9885 - val_loss: 2.8739 - val_accuracy: 0.4039\n",
      "Epoch 34/50\n",
      "1820/1820 [==============================] - 0s 104us/sample - loss: 0.1140 - accuracy: 0.9879 - val_loss: 2.8838 - val_accuracy: 0.4039\n",
      "Epoch 35/50\n",
      "1820/1820 [==============================] - 0s 107us/sample - loss: 0.1124 - accuracy: 0.9868 - val_loss: 2.9129 - val_accuracy: 0.3941\n",
      "Epoch 36/50\n",
      "1820/1820 [==============================] - 0s 107us/sample - loss: 0.1040 - accuracy: 0.9890 - val_loss: 2.9617 - val_accuracy: 0.3990\n",
      "Epoch 37/50\n",
      "1820/1820 [==============================] - 0s 104us/sample - loss: 0.1066 - accuracy: 0.9890 - val_loss: 2.9421 - val_accuracy: 0.4138\n",
      "Epoch 38/50\n",
      "1820/1820 [==============================] - 0s 108us/sample - loss: 0.0994 - accuracy: 0.9890 - val_loss: 3.0082 - val_accuracy: 0.3892\n",
      "Epoch 39/50\n",
      "1820/1820 [==============================] - 0s 108us/sample - loss: 0.0961 - accuracy: 0.9907 - val_loss: 2.9228 - val_accuracy: 0.4089\n",
      "Epoch 40/50\n",
      "1820/1820 [==============================] - 0s 106us/sample - loss: 0.0942 - accuracy: 0.9896 - val_loss: 2.9135 - val_accuracy: 0.4039\n",
      "Epoch 41/50\n",
      "1820/1820 [==============================] - 0s 100us/sample - loss: 0.0906 - accuracy: 0.9907 - val_loss: 3.0109 - val_accuracy: 0.4039\n",
      "Epoch 42/50\n",
      "1820/1820 [==============================] - 0s 101us/sample - loss: 0.0911 - accuracy: 0.9907 - val_loss: 2.9732 - val_accuracy: 0.4138\n",
      "Epoch 43/50\n",
      "1820/1820 [==============================] - 0s 105us/sample - loss: 0.0864 - accuracy: 0.9907 - val_loss: 2.9660 - val_accuracy: 0.4138\n",
      "Epoch 44/50\n",
      "1820/1820 [==============================] - 0s 108us/sample - loss: 0.0855 - accuracy: 0.9896 - val_loss: 2.9759 - val_accuracy: 0.3892\n",
      "Epoch 45/50\n",
      "1820/1820 [==============================] - 0s 104us/sample - loss: 0.0849 - accuracy: 0.9901 - val_loss: 3.0121 - val_accuracy: 0.4089\n",
      "Epoch 46/50\n",
      "1820/1820 [==============================] - 0s 107us/sample - loss: 0.0828 - accuracy: 0.9885 - val_loss: 2.9783 - val_accuracy: 0.3941\n",
      "Epoch 47/50\n",
      "1820/1820 [==============================] - 0s 113us/sample - loss: 0.0787 - accuracy: 0.9901 - val_loss: 3.0475 - val_accuracy: 0.3990\n",
      "Epoch 48/50\n",
      "1820/1820 [==============================] - 0s 110us/sample - loss: 0.0786 - accuracy: 0.9918 - val_loss: 3.0402 - val_accuracy: 0.4089\n",
      "Epoch 49/50\n",
      "1820/1820 [==============================] - 0s 106us/sample - loss: 0.0753 - accuracy: 0.9929 - val_loss: 3.0183 - val_accuracy: 0.4138\n",
      "Epoch 50/50\n",
      "1820/1820 [==============================] - 0s 108us/sample - loss: 0.0752 - accuracy: 0.9912 - val_loss: 3.0556 - val_accuracy: 0.3892\n"
     ]
    }
   ],
   "source": [
    "history = model.fit(x_train, y_train, epochs=50,\n",
    "                    validation_data=(x_val, y_val),callbacks = [callbacks])"
   ]
  },
  {
   "cell_type": "code",
   "execution_count": null,
   "metadata": {},
   "outputs": [],
   "source": []
  }
 ],
 "metadata": {
  "kernelspec": {
   "display_name": "Python [conda env:chienyu2]",
   "language": "python",
   "name": "conda-env-chienyu2-py"
  },
  "language_info": {
   "codemirror_mode": {
    "name": "ipython",
    "version": 3
   },
   "file_extension": ".py",
   "mimetype": "text/x-python",
   "name": "python",
   "nbconvert_exporter": "python",
   "pygments_lexer": "ipython3",
   "version": "3.6.9"
  },
  "toc": {
   "base_numbering": 1,
   "nav_menu": {},
   "number_sections": true,
   "sideBar": true,
   "skip_h1_title": false,
   "title_cell": "Table of Contents",
   "title_sidebar": "Contents",
   "toc_cell": false,
   "toc_position": {},
   "toc_section_display": true,
   "toc_window_display": false
  },
  "varInspector": {
   "cols": {
    "lenName": 16,
    "lenType": 16,
    "lenVar": 40
   },
   "kernels_config": {
    "python": {
     "delete_cmd_postfix": "",
     "delete_cmd_prefix": "del ",
     "library": "var_list.py",
     "varRefreshCmd": "print(var_dic_list())"
    },
    "r": {
     "delete_cmd_postfix": ") ",
     "delete_cmd_prefix": "rm(",
     "library": "var_list.r",
     "varRefreshCmd": "cat(var_dic_list()) "
    }
   },
   "types_to_exclude": [
    "module",
    "function",
    "builtin_function_or_method",
    "instance",
    "_Feature"
   ],
   "window_display": false
  }
 },
 "nbformat": 4,
 "nbformat_minor": 4
}
