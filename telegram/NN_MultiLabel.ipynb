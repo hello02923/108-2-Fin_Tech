{
 "cells": [
  {
   "cell_type": "code",
   "execution_count": 1,
   "metadata": {
    "ExecuteTime": {
     "end_time": "2020-06-10T12:38:59.637778Z",
     "start_time": "2020-06-10T12:38:58.108308Z"
    }
   },
   "outputs": [
    {
     "name": "stderr",
     "output_type": "stream",
     "text": [
      "/Users/lai/anaconda3/lib/python3.7/site-packages/tensorflow/python/framework/dtypes.py:516: FutureWarning: Passing (type, 1) or '1type' as a synonym of type is deprecated; in a future version of numpy, it will be understood as (type, (1,)) / '(1,)type'.\n",
      "  _np_qint8 = np.dtype([(\"qint8\", np.int8, 1)])\n",
      "/Users/lai/anaconda3/lib/python3.7/site-packages/tensorflow/python/framework/dtypes.py:517: FutureWarning: Passing (type, 1) or '1type' as a synonym of type is deprecated; in a future version of numpy, it will be understood as (type, (1,)) / '(1,)type'.\n",
      "  _np_quint8 = np.dtype([(\"quint8\", np.uint8, 1)])\n",
      "/Users/lai/anaconda3/lib/python3.7/site-packages/tensorflow/python/framework/dtypes.py:518: FutureWarning: Passing (type, 1) or '1type' as a synonym of type is deprecated; in a future version of numpy, it will be understood as (type, (1,)) / '(1,)type'.\n",
      "  _np_qint16 = np.dtype([(\"qint16\", np.int16, 1)])\n",
      "/Users/lai/anaconda3/lib/python3.7/site-packages/tensorflow/python/framework/dtypes.py:519: FutureWarning: Passing (type, 1) or '1type' as a synonym of type is deprecated; in a future version of numpy, it will be understood as (type, (1,)) / '(1,)type'.\n",
      "  _np_quint16 = np.dtype([(\"quint16\", np.uint16, 1)])\n",
      "/Users/lai/anaconda3/lib/python3.7/site-packages/tensorflow/python/framework/dtypes.py:520: FutureWarning: Passing (type, 1) or '1type' as a synonym of type is deprecated; in a future version of numpy, it will be understood as (type, (1,)) / '(1,)type'.\n",
      "  _np_qint32 = np.dtype([(\"qint32\", np.int32, 1)])\n",
      "/Users/lai/anaconda3/lib/python3.7/site-packages/tensorflow/python/framework/dtypes.py:525: FutureWarning: Passing (type, 1) or '1type' as a synonym of type is deprecated; in a future version of numpy, it will be understood as (type, (1,)) / '(1,)type'.\n",
      "  np_resource = np.dtype([(\"resource\", np.ubyte, 1)])\n",
      "/Users/lai/anaconda3/lib/python3.7/site-packages/tensorboard/compat/tensorflow_stub/dtypes.py:541: FutureWarning: Passing (type, 1) or '1type' as a synonym of type is deprecated; in a future version of numpy, it will be understood as (type, (1,)) / '(1,)type'.\n",
      "  _np_qint8 = np.dtype([(\"qint8\", np.int8, 1)])\n",
      "/Users/lai/anaconda3/lib/python3.7/site-packages/tensorboard/compat/tensorflow_stub/dtypes.py:542: FutureWarning: Passing (type, 1) or '1type' as a synonym of type is deprecated; in a future version of numpy, it will be understood as (type, (1,)) / '(1,)type'.\n",
      "  _np_quint8 = np.dtype([(\"quint8\", np.uint8, 1)])\n",
      "/Users/lai/anaconda3/lib/python3.7/site-packages/tensorboard/compat/tensorflow_stub/dtypes.py:543: FutureWarning: Passing (type, 1) or '1type' as a synonym of type is deprecated; in a future version of numpy, it will be understood as (type, (1,)) / '(1,)type'.\n",
      "  _np_qint16 = np.dtype([(\"qint16\", np.int16, 1)])\n",
      "/Users/lai/anaconda3/lib/python3.7/site-packages/tensorboard/compat/tensorflow_stub/dtypes.py:544: FutureWarning: Passing (type, 1) or '1type' as a synonym of type is deprecated; in a future version of numpy, it will be understood as (type, (1,)) / '(1,)type'.\n",
      "  _np_quint16 = np.dtype([(\"quint16\", np.uint16, 1)])\n",
      "/Users/lai/anaconda3/lib/python3.7/site-packages/tensorboard/compat/tensorflow_stub/dtypes.py:545: FutureWarning: Passing (type, 1) or '1type' as a synonym of type is deprecated; in a future version of numpy, it will be understood as (type, (1,)) / '(1,)type'.\n",
      "  _np_qint32 = np.dtype([(\"qint32\", np.int32, 1)])\n",
      "/Users/lai/anaconda3/lib/python3.7/site-packages/tensorboard/compat/tensorflow_stub/dtypes.py:550: FutureWarning: Passing (type, 1) or '1type' as a synonym of type is deprecated; in a future version of numpy, it will be understood as (type, (1,)) / '(1,)type'.\n",
      "  np_resource = np.dtype([(\"resource\", np.ubyte, 1)])\n"
     ]
    }
   ],
   "source": [
    "import pandas as pd\n",
    "import numpy as np\n",
    "import tensorflow as tf\n",
    "from tensorflow import keras\n",
    "import os\n",
    "os.environ[\"CUDA_VISIBLE_DEVICES\"]= '1'\n",
    "gpus = tf.config.experimental.list_physical_devices(device_type='GPU')\n",
    "for gpu in gpus:\n",
    "    tf.config.experimental.set_memory_growth(gpu, True)"
   ]
  },
  {
   "cell_type": "code",
   "execution_count": 50,
   "metadata": {
    "ExecuteTime": {
     "end_time": "2020-06-10T12:39:01.160092Z",
     "start_time": "2020-06-10T12:38:59.639514Z"
    }
   },
   "outputs": [],
   "source": [
    "dataset = pd.read_csv('/Users/lai/Downloads/Final_Dataset_NN.csv')"
   ]
  },
  {
   "cell_type": "code",
   "execution_count": 51,
   "metadata": {
    "ExecuteTime": {
     "end_time": "2020-06-10T12:39:01.178804Z",
     "start_time": "2020-06-10T12:39:01.161193Z"
    }
   },
   "outputs": [],
   "source": [
    "dataset = dataset.drop(['Unnamed: 0'],axis = 1)"
   ]
  },
  {
   "cell_type": "code",
   "execution_count": 91,
   "metadata": {},
   "outputs": [
    {
     "data": {
      "text/plain": [
       "Index(['傳產-塑膠', '傳產-生技', '傳產-航運', '金融-金控', '電子上游-IC-設計', '電子上游-LED及光元件',\n",
       "       '電子下游-電信服務', '傳產-其他', '傳產-汽車', '傳產-自行車', '傳產-鋼鐵', '傳產-電機', '傳產-食品',\n",
       "       '電子上游-DRAM銷售', '電子上游-IC-封測', '電子上游-PCB-製造', '電子上游-被動元件', '電子上游-連接元件',\n",
       "       '電子中游-主機板', '傳產-化學工業', '電子上游-IC-其他', '電子下游-筆記型電腦', '傳產-紡織纖維', '傳產-電線電纜',\n",
       "       '電子上游-IC-代工', '電子上游-IC-製造', '電子下游-光碟片', '電子中游-LCD-TFT面板',\n",
       "       '電子中游-NB與手機零組件', '電子上游-PCB-材料設備', '電子下游-太陽能', '電子中游-LCD-零組件',\n",
       "       '電子中游-儀器設備工程', '電子中游-其他', '電子中游-網通', '傳產-百貨', '電子中游-LCD-STN面板',\n",
       "       '電子中游-EMS', '傳產-營建', '軟體-遊戲', '電子中游-機殼', '電子下游-工業電腦', '金融-銀行',\n",
       "       '電子中游-通訊設備', '電子中游-電源供應器', '電子中游-變壓器與UPS', '傳產-橡膠', '軟體-其他',\n",
       "       '電子中游-光學鏡片', '傳產-汽車零組件', '電子上游-IC-通路', '電子下游-其他', '電子下游-手機製造', '傳產-水泥',\n",
       "       '傳產-紙業', '電子中游-PC介面卡', '電子下游-安全監控', '金融-證券', '電子上游-IC-DRAM製造',\n",
       "       '電子下游-商業自動化', '電子下游-資訊通路', '傳產-觀光', '金融-保險', '軟體-系統整合', '電子下游-消費電子',\n",
       "       '傳產-玻璃陶瓷', '傳產-高爾夫球', '電子下游-顯示器', '電子下游-掃描器', '電子下游-數位相機'],\n",
       "      dtype='object')"
      ]
     },
     "execution_count": 91,
     "metadata": {},
     "output_type": "execute_result"
    }
   ],
   "source": [
    "dataset.columns[-70:]"
   ]
  },
  {
   "cell_type": "code",
   "execution_count": null,
   "metadata": {},
   "outputs": [],
   "source": []
  },
  {
   "cell_type": "code",
   "execution_count": 59,
   "metadata": {
    "ExecuteTime": {
     "end_time": "2020-06-10T12:39:01.230753Z",
     "start_time": "2020-06-10T12:39:01.212811Z"
    }
   },
   "outputs": [],
   "source": [
    "x = dataset.iloc[:,1:4116].values"
   ]
  },
  {
   "cell_type": "code",
   "execution_count": 60,
   "metadata": {
    "ExecuteTime": {
     "end_time": "2020-06-10T12:39:01.233921Z",
     "start_time": "2020-06-10T12:39:01.231773Z"
    }
   },
   "outputs": [],
   "source": [
    "y = dataset.iloc[:,4116:].values"
   ]
  },
  {
   "cell_type": "code",
   "execution_count": 82,
   "metadata": {},
   "outputs": [
    {
     "data": {
      "text/plain": [
       "(70,)"
      ]
     },
     "execution_count": 82,
     "metadata": {},
     "output_type": "execute_result"
    }
   ],
   "source": [
    "y[0].shape"
   ]
  },
  {
   "cell_type": "code",
   "execution_count": 62,
   "metadata": {
    "ExecuteTime": {
     "end_time": "2020-06-10T12:39:01.236867Z",
     "start_time": "2020-06-10T12:39:01.234666Z"
    }
   },
   "outputs": [
    {
     "data": {
      "text/plain": [
       "(2023, 70)"
      ]
     },
     "execution_count": 62,
     "metadata": {},
     "output_type": "execute_result"
    }
   ],
   "source": [
    "y.shape"
   ]
  },
  {
   "cell_type": "code",
   "execution_count": 63,
   "metadata": {},
   "outputs": [
    {
     "data": {
      "text/plain": [
       "(2023, 4115)"
      ]
     },
     "execution_count": 63,
     "metadata": {},
     "output_type": "execute_result"
    }
   ],
   "source": [
    "x.shape"
   ]
  },
  {
   "cell_type": "code",
   "execution_count": 64,
   "metadata": {
    "ExecuteTime": {
     "end_time": "2020-06-10T12:39:01.377908Z",
     "start_time": "2020-06-10T12:39:01.237651Z"
    }
   },
   "outputs": [],
   "source": [
    "from sklearn.model_selection import train_test_split"
   ]
  },
  {
   "cell_type": "code",
   "execution_count": 65,
   "metadata": {
    "ExecuteTime": {
     "end_time": "2020-06-10T12:39:01.439847Z",
     "start_time": "2020-06-10T12:39:01.379343Z"
    }
   },
   "outputs": [],
   "source": [
    "x_train,x_val,y_train,y_val = train_test_split(x,y,test_size = 0.1,random_state = 1)"
   ]
  },
  {
   "cell_type": "code",
   "execution_count": 146,
   "metadata": {
    "ExecuteTime": {
     "end_time": "2020-06-10T12:39:01.917547Z",
     "start_time": "2020-06-10T12:39:01.441406Z"
    }
   },
   "outputs": [],
   "source": [
    "model = keras.models.Sequential()\n",
    "model.add(keras.layers.Dense(2000, activation=\"tanh\",input_shape = (4115,)))\n",
    "model.add(keras.layers.Dense(1000, activation=\"tanh\"))\n",
    "model.add(keras.layers.Dense(500, activation=\"tanh\"))\n",
    "model.add(keras.layers.Dense(250, activation=\"tanh\"))\n",
    "model.add(keras.layers.Dense(100, activation=\"tanh\"))\n",
    "model.add(keras.layers.Dense(70, activation=\"sigmoid\"))"
   ]
  },
  {
   "cell_type": "code",
   "execution_count": 147,
   "metadata": {
    "ExecuteTime": {
     "end_time": "2020-06-10T12:39:01.953475Z",
     "start_time": "2020-06-10T12:39:01.918399Z"
    }
   },
   "outputs": [],
   "source": [
    "model.compile(loss=\"binary_crossentropy\",\n",
    "              optimizer=\"sgd\",\n",
    "              metrics=[\"accuracy\"])"
   ]
  },
  {
   "cell_type": "code",
   "execution_count": 148,
   "metadata": {
    "ExecuteTime": {
     "end_time": "2020-06-10T12:39:01.956109Z",
     "start_time": "2020-06-10T12:39:01.954421Z"
    }
   },
   "outputs": [],
   "source": [
    "logdir = 'NN_Fintech_MultiLabel'\n",
    "callbacks = keras.callbacks.TensorBoard(log_dir = logdir)"
   ]
  },
  {
   "cell_type": "code",
   "execution_count": 149,
   "metadata": {
    "ExecuteTime": {
     "end_time": "2020-06-10T12:40:59.718348Z",
     "start_time": "2020-06-10T12:39:01.956906Z"
    },
    "scrolled": true
   },
   "outputs": [
    {
     "name": "stdout",
     "output_type": "stream",
     "text": [
      "Train on 1820 samples, validate on 203 samples\n",
      "Epoch 1/10\n",
      "1820/1820 [==============================] - 2s 1ms/sample - loss: 0.6711 - acc: 0.5853 - val_loss: 0.6225 - val_acc: 0.6634\n",
      "Epoch 2/10\n",
      "1820/1820 [==============================] - 2s 1ms/sample - loss: 0.5886 - acc: 0.7059 - val_loss: 0.5604 - val_acc: 0.7453\n",
      "Epoch 3/10\n",
      "1820/1820 [==============================] - 2s 1ms/sample - loss: 0.5323 - acc: 0.7758 - val_loss: 0.5105 - val_acc: 0.8017\n",
      "Epoch 4/10\n",
      "1820/1820 [==============================] - 2s 1ms/sample - loss: 0.4852 - acc: 0.8278 - val_loss: 0.4674 - val_acc: 0.8465\n",
      "Epoch 5/10\n",
      "1820/1820 [==============================] - 2s 1ms/sample - loss: 0.4443 - acc: 0.8684 - val_loss: 0.4301 - val_acc: 0.8817\n",
      "Epoch 6/10\n",
      "1820/1820 [==============================] - 2s 1ms/sample - loss: 0.4089 - acc: 0.8973 - val_loss: 0.3979 - val_acc: 0.9035\n",
      "Epoch 7/10\n",
      "1820/1820 [==============================] - 2s 1ms/sample - loss: 0.3785 - acc: 0.9151 - val_loss: 0.3705 - val_acc: 0.9171\n",
      "Epoch 8/10\n",
      "1820/1820 [==============================] - 2s 1ms/sample - loss: 0.3527 - acc: 0.9251 - val_loss: 0.3473 - val_acc: 0.9258\n",
      "Epoch 9/10\n",
      "1820/1820 [==============================] - 2s 1ms/sample - loss: 0.3309 - acc: 0.9310 - val_loss: 0.3278 - val_acc: 0.9305\n",
      "Epoch 10/10\n",
      "1820/1820 [==============================] - 2s 1ms/sample - loss: 0.3126 - acc: 0.9341 - val_loss: 0.3115 - val_acc: 0.9330\n"
     ]
    }
   ],
   "source": [
    "history = model.fit(x_train, y_train, epochs=10,\n",
    "                    validation_data=(x_val, y_val),callbacks = [callbacks])"
   ]
  },
  {
   "cell_type": "code",
   "execution_count": 164,
   "metadata": {},
   "outputs": [],
   "source": [
    "from tensorflow.keras.models import load_model"
   ]
  },
  {
   "cell_type": "code",
   "execution_count": 165,
   "metadata": {},
   "outputs": [],
   "source": [
    "model = load_model('test.h5')"
   ]
  },
  {
   "cell_type": "code",
   "execution_count": 134,
   "metadata": {},
   "outputs": [
    {
     "data": {
      "text/plain": [
       "(203, 4115)"
      ]
     },
     "execution_count": 134,
     "metadata": {},
     "output_type": "execute_result"
    }
   ],
   "source": [
    "x_val.shape"
   ]
  },
  {
   "cell_type": "code",
   "execution_count": 138,
   "metadata": {},
   "outputs": [
    {
     "data": {
      "text/plain": [
       "(4115,)"
      ]
     },
     "execution_count": 138,
     "metadata": {},
     "output_type": "execute_result"
    }
   ],
   "source": [
    "x_val[0].shape"
   ]
  },
  {
   "cell_type": "code",
   "execution_count": 139,
   "metadata": {},
   "outputs": [
    {
     "data": {
      "text/plain": [
       "(70,)"
      ]
     },
     "execution_count": 139,
     "metadata": {},
     "output_type": "execute_result"
    }
   ],
   "source": [
    "y_val[0].shape"
   ]
  },
  {
   "cell_type": "code",
   "execution_count": 167,
   "metadata": {},
   "outputs": [
    {
     "data": {
      "text/plain": [
       "array([ 0.,  6., 51., ...,  0.,  0.,  0.])"
      ]
     },
     "execution_count": 167,
     "metadata": {},
     "output_type": "execute_result"
    }
   ],
   "source": [
    "x_val[0]"
   ]
  },
  {
   "cell_type": "code",
   "execution_count": 170,
   "metadata": {},
   "outputs": [
    {
     "data": {
      "text/plain": [
       "2"
      ]
     },
     "execution_count": 170,
     "metadata": {},
     "output_type": "execute_result"
    }
   ],
   "source": [
    "x_val.ndim"
   ]
  },
  {
   "cell_type": "code",
   "execution_count": 173,
   "metadata": {},
   "outputs": [
    {
     "data": {
      "text/plain": [
       "1"
      ]
     },
     "execution_count": 173,
     "metadata": {},
     "output_type": "execute_result"
    }
   ],
   "source": [
    "x_val[0].ndim"
   ]
  },
  {
   "cell_type": "code",
   "execution_count": 166,
   "metadata": {
    "scrolled": true
   },
   "outputs": [
    {
     "data": {
      "text/plain": [
       "array([[0.02465346, 0.04964346, 0.11302286, 0.58922386, 0.01545924,\n",
       "        0.01659977, 0.02000117, 0.0483641 , 0.0093132 , 0.00379103,\n",
       "        0.03967524, 0.01641163, 0.02859694, 0.00520852, 0.01870412,\n",
       "        0.03703421, 0.02409256, 0.01233795, 0.00924319, 0.00771454,\n",
       "        0.00612101, 0.03273767, 0.03158951, 0.00382277, 0.39771822,\n",
       "        0.01694408, 0.00678369, 0.05530298, 0.01995564, 0.01054007,\n",
       "        0.01073173, 0.00712371, 0.00533435, 0.01132938, 0.01871258,\n",
       "        0.01334485, 0.0057855 , 0.05584937, 0.01347339, 0.0108901 ,\n",
       "        0.00531265, 0.00541067, 0.06656238, 0.01218084, 0.01210958,\n",
       "        0.00309843, 0.0186618 , 0.00720084, 0.00633541, 0.01214328,\n",
       "        0.01092109, 0.00876972, 0.00970814, 0.01064909, 0.01571867,\n",
       "        0.00629273, 0.00297776, 0.0079982 , 0.00898409, 0.00333351,\n",
       "        0.00543761, 0.01899385, 0.02030116, 0.01033938, 0.00619679,\n",
       "        0.00225629, 0.00480402, 0.00300215, 0.0075027 , 0.00308113]],\n",
       "      dtype=float32)"
      ]
     },
     "execution_count": 166,
     "metadata": {},
     "output_type": "execute_result"
    }
   ],
   "source": [
    "model.predict([[x_val[0]]])"
   ]
  },
  {
   "cell_type": "code",
   "execution_count": 137,
   "metadata": {
    "ExecuteTime": {
     "end_time": "2020-06-10T12:44:34.067074Z",
     "start_time": "2020-06-10T12:44:33.975416Z"
    },
    "scrolled": true
   },
   "outputs": [
    {
     "data": {
      "text/plain": [
       "(203, 70)"
      ]
     },
     "execution_count": 137,
     "metadata": {},
     "output_type": "execute_result"
    }
   ],
   "source": [
    "y_pred = model.predict(x_val)"
   ]
  },
  {
   "cell_type": "code",
   "execution_count": 174,
   "metadata": {},
   "outputs": [],
   "source": [
    "# model.predict(x_val[0])"
   ]
  },
  {
   "cell_type": "code",
   "execution_count": 79,
   "metadata": {
    "ExecuteTime": {
     "end_time": "2020-06-10T12:54:35.228076Z",
     "start_time": "2020-06-10T12:54:35.224811Z"
    }
   },
   "outputs": [
    {
     "data": {
      "text/plain": [
       "array([0, 1, 0, 0, 1, 0, 0, 0, 0, 0, 0, 0, 0, 0, 0, 0, 1, 1, 0, 0, 0, 0,\n",
       "       0, 0, 0, 0, 0, 0, 0, 0, 0, 0, 0, 0, 1, 0, 0, 0, 0, 0, 0, 0, 0, 0,\n",
       "       0, 0, 0, 0, 0, 0, 0, 0, 0, 0, 0, 0, 0, 0, 0, 0, 0, 0, 0, 0, 0, 0,\n",
       "       0, 1, 0, 0])"
      ]
     },
     "execution_count": 79,
     "metadata": {},
     "output_type": "execute_result"
    }
   ],
   "source": [
    "y_val[12]"
   ]
  },
  {
   "cell_type": "code",
   "execution_count": 98,
   "metadata": {},
   "outputs": [
    {
     "data": {
      "text/html": [
       "<div>\n",
       "<style scoped>\n",
       "    .dataframe tbody tr th:only-of-type {\n",
       "        vertical-align: middle;\n",
       "    }\n",
       "\n",
       "    .dataframe tbody tr th {\n",
       "        vertical-align: top;\n",
       "    }\n",
       "\n",
       "    .dataframe thead th {\n",
       "        text-align: right;\n",
       "    }\n",
       "</style>\n",
       "<table border=\"1\" class=\"dataframe\">\n",
       "  <thead>\n",
       "    <tr style=\"text-align: right;\">\n",
       "      <th></th>\n",
       "      <th>傳產-塑膠</th>\n",
       "      <th>傳產-生技</th>\n",
       "      <th>傳產-航運</th>\n",
       "      <th>金融-金控</th>\n",
       "      <th>電子上游-IC-設計</th>\n",
       "      <th>電子上游-LED及光元件</th>\n",
       "      <th>電子下游-電信服務</th>\n",
       "      <th>傳產-其他</th>\n",
       "      <th>傳產-汽車</th>\n",
       "      <th>傳產-自行車</th>\n",
       "      <th>...</th>\n",
       "      <th>電子下游-資訊通路</th>\n",
       "      <th>傳產-觀光</th>\n",
       "      <th>金融-保險</th>\n",
       "      <th>軟體-系統整合</th>\n",
       "      <th>電子下游-消費電子</th>\n",
       "      <th>傳產-玻璃陶瓷</th>\n",
       "      <th>傳產-高爾夫球</th>\n",
       "      <th>電子下游-顯示器</th>\n",
       "      <th>電子下游-掃描器</th>\n",
       "      <th>電子下游-數位相機</th>\n",
       "    </tr>\n",
       "  </thead>\n",
       "  <tbody>\n",
       "    <tr>\n",
       "      <th>0</th>\n",
       "      <td>1</td>\n",
       "      <td>1</td>\n",
       "      <td>1</td>\n",
       "      <td>1</td>\n",
       "      <td>1</td>\n",
       "      <td>1</td>\n",
       "      <td>1</td>\n",
       "      <td>0</td>\n",
       "      <td>0</td>\n",
       "      <td>0</td>\n",
       "      <td>...</td>\n",
       "      <td>0</td>\n",
       "      <td>0</td>\n",
       "      <td>0</td>\n",
       "      <td>0</td>\n",
       "      <td>0</td>\n",
       "      <td>0</td>\n",
       "      <td>0</td>\n",
       "      <td>0</td>\n",
       "      <td>0</td>\n",
       "      <td>0</td>\n",
       "    </tr>\n",
       "    <tr>\n",
       "      <th>1</th>\n",
       "      <td>0</td>\n",
       "      <td>1</td>\n",
       "      <td>1</td>\n",
       "      <td>0</td>\n",
       "      <td>0</td>\n",
       "      <td>1</td>\n",
       "      <td>0</td>\n",
       "      <td>1</td>\n",
       "      <td>1</td>\n",
       "      <td>1</td>\n",
       "      <td>...</td>\n",
       "      <td>0</td>\n",
       "      <td>0</td>\n",
       "      <td>0</td>\n",
       "      <td>0</td>\n",
       "      <td>0</td>\n",
       "      <td>0</td>\n",
       "      <td>0</td>\n",
       "      <td>0</td>\n",
       "      <td>0</td>\n",
       "      <td>0</td>\n",
       "    </tr>\n",
       "    <tr>\n",
       "      <th>2</th>\n",
       "      <td>1</td>\n",
       "      <td>0</td>\n",
       "      <td>0</td>\n",
       "      <td>0</td>\n",
       "      <td>0</td>\n",
       "      <td>0</td>\n",
       "      <td>0</td>\n",
       "      <td>0</td>\n",
       "      <td>0</td>\n",
       "      <td>0</td>\n",
       "      <td>...</td>\n",
       "      <td>0</td>\n",
       "      <td>0</td>\n",
       "      <td>0</td>\n",
       "      <td>0</td>\n",
       "      <td>0</td>\n",
       "      <td>0</td>\n",
       "      <td>0</td>\n",
       "      <td>0</td>\n",
       "      <td>0</td>\n",
       "      <td>0</td>\n",
       "    </tr>\n",
       "    <tr>\n",
       "      <th>3</th>\n",
       "      <td>0</td>\n",
       "      <td>1</td>\n",
       "      <td>0</td>\n",
       "      <td>0</td>\n",
       "      <td>1</td>\n",
       "      <td>1</td>\n",
       "      <td>0</td>\n",
       "      <td>0</td>\n",
       "      <td>0</td>\n",
       "      <td>0</td>\n",
       "      <td>...</td>\n",
       "      <td>0</td>\n",
       "      <td>0</td>\n",
       "      <td>0</td>\n",
       "      <td>0</td>\n",
       "      <td>0</td>\n",
       "      <td>0</td>\n",
       "      <td>0</td>\n",
       "      <td>0</td>\n",
       "      <td>0</td>\n",
       "      <td>0</td>\n",
       "    </tr>\n",
       "    <tr>\n",
       "      <th>4</th>\n",
       "      <td>1</td>\n",
       "      <td>1</td>\n",
       "      <td>0</td>\n",
       "      <td>0</td>\n",
       "      <td>1</td>\n",
       "      <td>0</td>\n",
       "      <td>0</td>\n",
       "      <td>0</td>\n",
       "      <td>0</td>\n",
       "      <td>0</td>\n",
       "      <td>...</td>\n",
       "      <td>0</td>\n",
       "      <td>0</td>\n",
       "      <td>0</td>\n",
       "      <td>0</td>\n",
       "      <td>0</td>\n",
       "      <td>0</td>\n",
       "      <td>0</td>\n",
       "      <td>0</td>\n",
       "      <td>0</td>\n",
       "      <td>0</td>\n",
       "    </tr>\n",
       "    <tr>\n",
       "      <th>...</th>\n",
       "      <td>...</td>\n",
       "      <td>...</td>\n",
       "      <td>...</td>\n",
       "      <td>...</td>\n",
       "      <td>...</td>\n",
       "      <td>...</td>\n",
       "      <td>...</td>\n",
       "      <td>...</td>\n",
       "      <td>...</td>\n",
       "      <td>...</td>\n",
       "      <td>...</td>\n",
       "      <td>...</td>\n",
       "      <td>...</td>\n",
       "      <td>...</td>\n",
       "      <td>...</td>\n",
       "      <td>...</td>\n",
       "      <td>...</td>\n",
       "      <td>...</td>\n",
       "      <td>...</td>\n",
       "      <td>...</td>\n",
       "      <td>...</td>\n",
       "    </tr>\n",
       "    <tr>\n",
       "      <th>2018</th>\n",
       "      <td>0</td>\n",
       "      <td>0</td>\n",
       "      <td>0</td>\n",
       "      <td>0</td>\n",
       "      <td>0</td>\n",
       "      <td>0</td>\n",
       "      <td>0</td>\n",
       "      <td>0</td>\n",
       "      <td>0</td>\n",
       "      <td>0</td>\n",
       "      <td>...</td>\n",
       "      <td>0</td>\n",
       "      <td>0</td>\n",
       "      <td>0</td>\n",
       "      <td>0</td>\n",
       "      <td>0</td>\n",
       "      <td>0</td>\n",
       "      <td>0</td>\n",
       "      <td>0</td>\n",
       "      <td>0</td>\n",
       "      <td>0</td>\n",
       "    </tr>\n",
       "    <tr>\n",
       "      <th>2019</th>\n",
       "      <td>0</td>\n",
       "      <td>0</td>\n",
       "      <td>0</td>\n",
       "      <td>0</td>\n",
       "      <td>0</td>\n",
       "      <td>0</td>\n",
       "      <td>0</td>\n",
       "      <td>0</td>\n",
       "      <td>0</td>\n",
       "      <td>0</td>\n",
       "      <td>...</td>\n",
       "      <td>0</td>\n",
       "      <td>0</td>\n",
       "      <td>0</td>\n",
       "      <td>0</td>\n",
       "      <td>0</td>\n",
       "      <td>0</td>\n",
       "      <td>0</td>\n",
       "      <td>0</td>\n",
       "      <td>0</td>\n",
       "      <td>0</td>\n",
       "    </tr>\n",
       "    <tr>\n",
       "      <th>2020</th>\n",
       "      <td>0</td>\n",
       "      <td>0</td>\n",
       "      <td>0</td>\n",
       "      <td>0</td>\n",
       "      <td>0</td>\n",
       "      <td>0</td>\n",
       "      <td>0</td>\n",
       "      <td>0</td>\n",
       "      <td>0</td>\n",
       "      <td>0</td>\n",
       "      <td>...</td>\n",
       "      <td>0</td>\n",
       "      <td>0</td>\n",
       "      <td>0</td>\n",
       "      <td>0</td>\n",
       "      <td>0</td>\n",
       "      <td>0</td>\n",
       "      <td>0</td>\n",
       "      <td>0</td>\n",
       "      <td>0</td>\n",
       "      <td>0</td>\n",
       "    </tr>\n",
       "    <tr>\n",
       "      <th>2021</th>\n",
       "      <td>1</td>\n",
       "      <td>0</td>\n",
       "      <td>0</td>\n",
       "      <td>0</td>\n",
       "      <td>0</td>\n",
       "      <td>0</td>\n",
       "      <td>0</td>\n",
       "      <td>0</td>\n",
       "      <td>0</td>\n",
       "      <td>0</td>\n",
       "      <td>...</td>\n",
       "      <td>0</td>\n",
       "      <td>0</td>\n",
       "      <td>0</td>\n",
       "      <td>0</td>\n",
       "      <td>0</td>\n",
       "      <td>0</td>\n",
       "      <td>0</td>\n",
       "      <td>0</td>\n",
       "      <td>0</td>\n",
       "      <td>0</td>\n",
       "    </tr>\n",
       "    <tr>\n",
       "      <th>2022</th>\n",
       "      <td>0</td>\n",
       "      <td>0</td>\n",
       "      <td>0</td>\n",
       "      <td>0</td>\n",
       "      <td>0</td>\n",
       "      <td>0</td>\n",
       "      <td>0</td>\n",
       "      <td>0</td>\n",
       "      <td>0</td>\n",
       "      <td>0</td>\n",
       "      <td>...</td>\n",
       "      <td>0</td>\n",
       "      <td>0</td>\n",
       "      <td>0</td>\n",
       "      <td>0</td>\n",
       "      <td>0</td>\n",
       "      <td>0</td>\n",
       "      <td>0</td>\n",
       "      <td>0</td>\n",
       "      <td>0</td>\n",
       "      <td>0</td>\n",
       "    </tr>\n",
       "  </tbody>\n",
       "</table>\n",
       "<p>2023 rows × 70 columns</p>\n",
       "</div>"
      ],
      "text/plain": [
       "      傳產-塑膠  傳產-生技  傳產-航運  金融-金控  電子上游-IC-設計  電子上游-LED及光元件  電子下游-電信服務  傳產-其他  \\\n",
       "0         1      1      1      1           1             1          1      0   \n",
       "1         0      1      1      0           0             1          0      1   \n",
       "2         1      0      0      0           0             0          0      0   \n",
       "3         0      1      0      0           1             1          0      0   \n",
       "4         1      1      0      0           1             0          0      0   \n",
       "...     ...    ...    ...    ...         ...           ...        ...    ...   \n",
       "2018      0      0      0      0           0             0          0      0   \n",
       "2019      0      0      0      0           0             0          0      0   \n",
       "2020      0      0      0      0           0             0          0      0   \n",
       "2021      1      0      0      0           0             0          0      0   \n",
       "2022      0      0      0      0           0             0          0      0   \n",
       "\n",
       "      傳產-汽車  傳產-自行車  ...  電子下游-資訊通路  傳產-觀光  金融-保險  軟體-系統整合  電子下游-消費電子  \\\n",
       "0         0       0  ...          0      0      0        0          0   \n",
       "1         1       1  ...          0      0      0        0          0   \n",
       "2         0       0  ...          0      0      0        0          0   \n",
       "3         0       0  ...          0      0      0        0          0   \n",
       "4         0       0  ...          0      0      0        0          0   \n",
       "...     ...     ...  ...        ...    ...    ...      ...        ...   \n",
       "2018      0       0  ...          0      0      0        0          0   \n",
       "2019      0       0  ...          0      0      0        0          0   \n",
       "2020      0       0  ...          0      0      0        0          0   \n",
       "2021      0       0  ...          0      0      0        0          0   \n",
       "2022      0       0  ...          0      0      0        0          0   \n",
       "\n",
       "      傳產-玻璃陶瓷  傳產-高爾夫球  電子下游-顯示器  電子下游-掃描器  電子下游-數位相機  \n",
       "0           0        0         0         0          0  \n",
       "1           0        0         0         0          0  \n",
       "2           0        0         0         0          0  \n",
       "3           0        0         0         0          0  \n",
       "4           0        0         0         0          0  \n",
       "...       ...      ...       ...       ...        ...  \n",
       "2018        0        0         0         0          0  \n",
       "2019        0        0         0         0          0  \n",
       "2020        0        0         0         0          0  \n",
       "2021        0        0         0         0          0  \n",
       "2022        0        0         0         0          0  \n",
       "\n",
       "[2023 rows x 70 columns]"
      ]
     },
     "execution_count": 98,
     "metadata": {},
     "output_type": "execute_result"
    }
   ],
   "source": [
    "dataset.iloc[:, -70:]"
   ]
  },
  {
   "cell_type": "code",
   "execution_count": 101,
   "metadata": {},
   "outputs": [
    {
     "data": {
      "text/plain": [
       "pandas.core.frame.DataFrame"
      ]
     },
     "execution_count": 101,
     "metadata": {},
     "output_type": "execute_result"
    }
   ],
   "source": [
    "type(dataset)"
   ]
  },
  {
   "cell_type": "code",
   "execution_count": 100,
   "metadata": {},
   "outputs": [
    {
     "data": {
      "text/plain": [
       "numpy.ndarray"
      ]
     },
     "execution_count": 100,
     "metadata": {},
     "output_type": "execute_result"
    }
   ],
   "source": [
    "type(y_pred)"
   ]
  },
  {
   "cell_type": "code",
   "execution_count": 96,
   "metadata": {},
   "outputs": [
    {
     "data": {
      "text/plain": [
       "Index(['傳產-塑膠', '傳產-生技', '傳產-航運', '金融-金控', '電子上游-IC-設計', '電子上游-LED及光元件',\n",
       "       '電子下游-電信服務', '傳產-其他', '傳產-汽車', '傳產-自行車', '傳產-鋼鐵', '傳產-電機', '傳產-食品',\n",
       "       '電子上游-DRAM銷售', '電子上游-IC-封測', '電子上游-PCB-製造', '電子上游-被動元件', '電子上游-連接元件',\n",
       "       '電子中游-主機板', '傳產-化學工業', '電子上游-IC-其他', '電子下游-筆記型電腦', '傳產-紡織纖維', '傳產-電線電纜',\n",
       "       '電子上游-IC-代工', '電子上游-IC-製造', '電子下游-光碟片', '電子中游-LCD-TFT面板',\n",
       "       '電子中游-NB與手機零組件', '電子上游-PCB-材料設備', '電子下游-太陽能', '電子中游-LCD-零組件',\n",
       "       '電子中游-儀器設備工程', '電子中游-其他', '電子中游-網通', '傳產-百貨', '電子中游-LCD-STN面板',\n",
       "       '電子中游-EMS', '傳產-營建', '軟體-遊戲', '電子中游-機殼', '電子下游-工業電腦', '金融-銀行',\n",
       "       '電子中游-通訊設備', '電子中游-電源供應器', '電子中游-變壓器與UPS', '傳產-橡膠', '軟體-其他',\n",
       "       '電子中游-光學鏡片', '傳產-汽車零組件', '電子上游-IC-通路', '電子下游-其他', '電子下游-手機製造', '傳產-水泥',\n",
       "       '傳產-紙業', '電子中游-PC介面卡', '電子下游-安全監控', '金融-證券', '電子上游-IC-DRAM製造',\n",
       "       '電子下游-商業自動化', '電子下游-資訊通路', '傳產-觀光', '金融-保險', '軟體-系統整合', '電子下游-消費電子',\n",
       "       '傳產-玻璃陶瓷', '傳產-高爾夫球', '電子下游-顯示器', '電子下游-掃描器', '電子下游-數位相機'],\n",
       "      dtype='object')"
      ]
     },
     "execution_count": 96,
     "metadata": {},
     "output_type": "execute_result"
    }
   ],
   "source": [
    "dataset.columns[-70:]"
   ]
  },
  {
   "cell_type": "code",
   "execution_count": 95,
   "metadata": {},
   "outputs": [
    {
     "data": {
      "text/plain": [
       "array([0.06627071, 0.31492478, 0.1009506 , 0.28605363, 0.29223955,\n",
       "       0.2382138 , 0.398913  , 0.5526782 , 0.10901561, 0.11329958,\n",
       "       0.15077686, 0.2665918 , 0.22155708, 0.15649295, 0.25412002,\n",
       "       0.36315635, 0.26840585, 0.1492151 , 0.31593338, 0.22827211,\n",
       "       0.13782099, 0.24397093, 0.11202398, 0.13180038, 0.283452  ,\n",
       "       0.23885834, 0.06396109, 0.0711773 , 0.15948024, 0.14807785,\n",
       "       0.21541727, 0.1784544 , 0.11815122, 0.10294643, 0.23900989,\n",
       "       0.17618072, 0.18201175, 0.2881381 , 0.39759177, 0.05228624,\n",
       "       0.07286063, 0.1740166 , 0.06894338, 0.13008681, 0.23385102,\n",
       "       0.17714348, 0.09308735, 0.0966225 , 0.16560712, 0.12447995,\n",
       "       0.21891195, 0.19688198, 0.24109069, 0.32964718, 0.0797559 ,\n",
       "       0.0636538 , 0.1414496 , 0.07287389, 0.1289739 , 0.11093813,\n",
       "       0.24101591, 0.10947922, 0.12194067, 0.11989409, 0.09719321,\n",
       "       0.10579962, 0.07369754, 0.05612499, 0.07535496, 0.07822755],\n",
       "      dtype=float32)"
      ]
     },
     "execution_count": 95,
     "metadata": {},
     "output_type": "execute_result"
    }
   ],
   "source": [
    "y_pred[12]"
   ]
  },
  {
   "cell_type": "code",
   "execution_count": 94,
   "metadata": {
    "ExecuteTime": {
     "end_time": "2020-06-10T12:54:27.704368Z",
     "start_time": "2020-06-10T12:54:27.699274Z"
    }
   },
   "outputs": [
    {
     "data": {
      "text/plain": [
       "[0.5526782, 0.398913, 0.39759177, 0.36315635, 0.32964718]"
      ]
     },
     "execution_count": 94,
     "metadata": {},
     "output_type": "execute_result"
    }
   ],
   "source": [
    "sorted(y_pred[12], reverse=True)[:5]"
   ]
  },
  {
   "cell_type": "code",
   "execution_count": 108,
   "metadata": {},
   "outputs": [],
   "source": [
    "array = np.concatenate(y_pred[12], axis=None)"
   ]
  },
  {
   "cell_type": "code",
   "execution_count": 112,
   "metadata": {},
   "outputs": [],
   "source": [
    "df = pd.DataFrame(dataset.columns[-70:])"
   ]
  },
  {
   "cell_type": "code",
   "execution_count": 119,
   "metadata": {},
   "outputs": [],
   "source": [
    "merge = pd.DataFrame(pd.np.column_stack([df, y_pred[12]]))"
   ]
  },
  {
   "cell_type": "code",
   "execution_count": 123,
   "metadata": {},
   "outputs": [
    {
     "data": {
      "text/html": [
       "<div>\n",
       "<style scoped>\n",
       "    .dataframe tbody tr th:only-of-type {\n",
       "        vertical-align: middle;\n",
       "    }\n",
       "\n",
       "    .dataframe tbody tr th {\n",
       "        vertical-align: top;\n",
       "    }\n",
       "\n",
       "    .dataframe thead th {\n",
       "        text-align: right;\n",
       "    }\n",
       "</style>\n",
       "<table border=\"1\" class=\"dataframe\">\n",
       "  <thead>\n",
       "    <tr style=\"text-align: right;\">\n",
       "      <th></th>\n",
       "      <th>0</th>\n",
       "      <th>1</th>\n",
       "    </tr>\n",
       "  </thead>\n",
       "  <tbody>\n",
       "    <tr>\n",
       "      <th>0</th>\n",
       "      <td>傳產-塑膠</td>\n",
       "      <td>0.0662707</td>\n",
       "    </tr>\n",
       "    <tr>\n",
       "      <th>1</th>\n",
       "      <td>傳產-生技</td>\n",
       "      <td>0.314925</td>\n",
       "    </tr>\n",
       "    <tr>\n",
       "      <th>2</th>\n",
       "      <td>傳產-航運</td>\n",
       "      <td>0.100951</td>\n",
       "    </tr>\n",
       "    <tr>\n",
       "      <th>3</th>\n",
       "      <td>金融-金控</td>\n",
       "      <td>0.286054</td>\n",
       "    </tr>\n",
       "    <tr>\n",
       "      <th>4</th>\n",
       "      <td>電子上游-IC-設計</td>\n",
       "      <td>0.29224</td>\n",
       "    </tr>\n",
       "    <tr>\n",
       "      <th>...</th>\n",
       "      <td>...</td>\n",
       "      <td>...</td>\n",
       "    </tr>\n",
       "    <tr>\n",
       "      <th>65</th>\n",
       "      <td>傳產-玻璃陶瓷</td>\n",
       "      <td>0.1058</td>\n",
       "    </tr>\n",
       "    <tr>\n",
       "      <th>66</th>\n",
       "      <td>傳產-高爾夫球</td>\n",
       "      <td>0.0736975</td>\n",
       "    </tr>\n",
       "    <tr>\n",
       "      <th>67</th>\n",
       "      <td>電子下游-顯示器</td>\n",
       "      <td>0.056125</td>\n",
       "    </tr>\n",
       "    <tr>\n",
       "      <th>68</th>\n",
       "      <td>電子下游-掃描器</td>\n",
       "      <td>0.075355</td>\n",
       "    </tr>\n",
       "    <tr>\n",
       "      <th>69</th>\n",
       "      <td>電子下游-數位相機</td>\n",
       "      <td>0.0782275</td>\n",
       "    </tr>\n",
       "  </tbody>\n",
       "</table>\n",
       "<p>70 rows × 2 columns</p>\n",
       "</div>"
      ],
      "text/plain": [
       "             0          1\n",
       "0        傳產-塑膠  0.0662707\n",
       "1        傳產-生技   0.314925\n",
       "2        傳產-航運   0.100951\n",
       "3        金融-金控   0.286054\n",
       "4   電子上游-IC-設計    0.29224\n",
       "..         ...        ...\n",
       "65     傳產-玻璃陶瓷     0.1058\n",
       "66     傳產-高爾夫球  0.0736975\n",
       "67    電子下游-顯示器   0.056125\n",
       "68    電子下游-掃描器   0.075355\n",
       "69   電子下游-數位相機  0.0782275\n",
       "\n",
       "[70 rows x 2 columns]"
      ]
     },
     "execution_count": 123,
     "metadata": {},
     "output_type": "execute_result"
    }
   ],
   "source": [
    "merge"
   ]
  },
  {
   "cell_type": "code",
   "execution_count": 130,
   "metadata": {},
   "outputs": [],
   "source": [
    "s = merge.sort_index()"
   ]
  },
  {
   "cell_type": "code",
   "execution_count": 133,
   "metadata": {},
   "outputs": [
    {
     "data": {
      "text/html": [
       "<div>\n",
       "<style scoped>\n",
       "    .dataframe tbody tr th:only-of-type {\n",
       "        vertical-align: middle;\n",
       "    }\n",
       "\n",
       "    .dataframe tbody tr th {\n",
       "        vertical-align: top;\n",
       "    }\n",
       "\n",
       "    .dataframe thead th {\n",
       "        text-align: right;\n",
       "    }\n",
       "</style>\n",
       "<table border=\"1\" class=\"dataframe\">\n",
       "  <thead>\n",
       "    <tr style=\"text-align: right;\">\n",
       "      <th></th>\n",
       "      <th>0</th>\n",
       "      <th>1</th>\n",
       "    </tr>\n",
       "  </thead>\n",
       "  <tbody>\n",
       "    <tr>\n",
       "      <th>7</th>\n",
       "      <td>傳產-其他</td>\n",
       "      <td>0.552678</td>\n",
       "    </tr>\n",
       "    <tr>\n",
       "      <th>6</th>\n",
       "      <td>電子下游-電信服務</td>\n",
       "      <td>0.398913</td>\n",
       "    </tr>\n",
       "    <tr>\n",
       "      <th>38</th>\n",
       "      <td>傳產-營建</td>\n",
       "      <td>0.397592</td>\n",
       "    </tr>\n",
       "    <tr>\n",
       "      <th>15</th>\n",
       "      <td>電子上游-PCB-製造</td>\n",
       "      <td>0.363156</td>\n",
       "    </tr>\n",
       "    <tr>\n",
       "      <th>53</th>\n",
       "      <td>傳產-水泥</td>\n",
       "      <td>0.329647</td>\n",
       "    </tr>\n",
       "  </tbody>\n",
       "</table>\n",
       "</div>"
      ],
      "text/plain": [
       "              0         1\n",
       "7         傳產-其他  0.552678\n",
       "6     電子下游-電信服務  0.398913\n",
       "38        傳產-營建  0.397592\n",
       "15  電子上游-PCB-製造  0.363156\n",
       "53        傳產-水泥  0.329647"
      ]
     },
     "execution_count": 133,
     "metadata": {},
     "output_type": "execute_result"
    }
   ],
   "source": [
    "s.sort_values(1, ascending=False)[:5]"
   ]
  },
  {
   "cell_type": "code",
   "execution_count": null,
   "metadata": {},
   "outputs": [],
   "source": []
  },
  {
   "cell_type": "code",
   "execution_count": null,
   "metadata": {},
   "outputs": [],
   "source": []
  },
  {
   "cell_type": "code",
   "execution_count": null,
   "metadata": {},
   "outputs": [],
   "source": []
  },
  {
   "cell_type": "code",
   "execution_count": 20,
   "metadata": {
    "ExecuteTime": {
     "end_time": "2020-06-10T12:53:35.750123Z",
     "start_time": "2020-06-10T12:53:35.747596Z"
    }
   },
   "outputs": [
    {
     "ename": "IndexError",
     "evalue": "index 9 is out of bounds for axis 0 with size 3",
     "output_type": "error",
     "traceback": [
      "\u001b[0;31m---------------------------------------------------------------------------\u001b[0m",
      "\u001b[0;31mIndexError\u001b[0m                                Traceback (most recent call last)",
      "\u001b[0;32m<ipython-input-20-dda05138531a>\u001b[0m in \u001b[0;36m<module>\u001b[0;34m\u001b[0m\n\u001b[0;32m----> 1\u001b[0;31m \u001b[0mind\u001b[0m \u001b[0;34m=\u001b[0m \u001b[0mnp\u001b[0m\u001b[0;34m.\u001b[0m\u001b[0margpartition\u001b[0m\u001b[0;34m(\u001b[0m\u001b[0my_pred\u001b[0m\u001b[0;34m[\u001b[0m\u001b[0;36m9\u001b[0m\u001b[0;34m]\u001b[0m\u001b[0;34m,\u001b[0m \u001b[0;34m-\u001b[0m\u001b[0;36m11\u001b[0m\u001b[0;34m)\u001b[0m\u001b[0;34m[\u001b[0m\u001b[0;34m-\u001b[0m\u001b[0;36m11\u001b[0m\u001b[0;34m:\u001b[0m\u001b[0;34m]\u001b[0m\u001b[0;34m\u001b[0m\u001b[0;34m\u001b[0m\u001b[0m\n\u001b[0m",
      "\u001b[0;31mIndexError\u001b[0m: index 9 is out of bounds for axis 0 with size 3"
     ]
    }
   ],
   "source": [
    "ind = np.argpartition(y_pred[9], -11)[-11:]"
   ]
  },
  {
   "cell_type": "code",
   "execution_count": 42,
   "metadata": {
    "ExecuteTime": {
     "end_time": "2020-06-10T12:53:37.235979Z",
     "start_time": "2020-06-10T12:53:37.231072Z"
    }
   },
   "outputs": [
    {
     "data": {
      "text/plain": [
       "array([56, 50, 39, 32, 27, 58, 38, 15, 10,  3, 61])"
      ]
     },
     "execution_count": 42,
     "metadata": {},
     "output_type": "execute_result"
    }
   ],
   "source": [
    "ind"
   ]
  },
  {
   "cell_type": "code",
   "execution_count": 43,
   "metadata": {
    "ExecuteTime": {
     "end_time": "2020-06-10T12:53:38.753960Z",
     "start_time": "2020-06-10T12:53:38.748905Z"
    }
   },
   "outputs": [
    {
     "data": {
      "text/plain": [
       "array([0.12348142, 0.12445366, 0.19302976, 0.17833504, 0.22872153,\n",
       "       0.22575212, 0.25911522, 0.14135143, 0.1744698 , 0.1280914 ,\n",
       "       0.14316043], dtype=float32)"
      ]
     },
     "execution_count": 43,
     "metadata": {},
     "output_type": "execute_result"
    }
   ],
   "source": [
    "y_pred[9][ind]"
   ]
  },
  {
   "cell_type": "code",
   "execution_count": null,
   "metadata": {},
   "outputs": [],
   "source": []
  }
 ],
 "metadata": {
  "kernelspec": {
   "display_name": "Python 3",
   "language": "python",
   "name": "python3"
  },
  "language_info": {
   "codemirror_mode": {
    "name": "ipython",
    "version": 3
   },
   "file_extension": ".py",
   "mimetype": "text/x-python",
   "name": "python",
   "nbconvert_exporter": "python",
   "pygments_lexer": "ipython3",
   "version": "3.7.1"
  },
  "toc": {
   "base_numbering": 1,
   "nav_menu": {},
   "number_sections": true,
   "sideBar": true,
   "skip_h1_title": false,
   "title_cell": "Table of Contents",
   "title_sidebar": "Contents",
   "toc_cell": false,
   "toc_position": {},
   "toc_section_display": true,
   "toc_window_display": false
  },
  "varInspector": {
   "cols": {
    "lenName": 16,
    "lenType": 16,
    "lenVar": 40
   },
   "kernels_config": {
    "python": {
     "delete_cmd_postfix": "",
     "delete_cmd_prefix": "del ",
     "library": "var_list.py",
     "varRefreshCmd": "print(var_dic_list())"
    },
    "r": {
     "delete_cmd_postfix": ") ",
     "delete_cmd_prefix": "rm(",
     "library": "var_list.r",
     "varRefreshCmd": "cat(var_dic_list()) "
    }
   },
   "types_to_exclude": [
    "module",
    "function",
    "builtin_function_or_method",
    "instance",
    "_Feature"
   ],
   "window_display": false
  }
 },
 "nbformat": 4,
 "nbformat_minor": 4
}
