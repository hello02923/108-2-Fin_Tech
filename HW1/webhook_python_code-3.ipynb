{
 "cells": [
  {
   "cell_type": "code",
   "execution_count": null,
   "metadata": {},
   "outputs": [],
   "source": [
    "import requests\n",
    "import configparser\n",
    "import telegram\n",
    "from flask import Flask, request\n",
    "from telegram.ext import Dispatcher, MessageHandler, Filters, CommandHandler\n",
    "from telegram import InlineKeyboardMarkup, InlineKeyboardButton,ReplyKeyboardMarkup\n",
    "from telegram.ext import Updater, CommandHandler, CallbackQueryHandler\n",
    "from fugle_realtime import intraday"
   ]
  },
  {
   "cell_type": "code",
   "execution_count": null,
   "metadata": {},
   "outputs": [],
   "source": [
    "config = configparser.ConfigParser()\n",
    "config.read('config.ini')"
   ]
  },
  {
   "cell_type": "code",
   "execution_count": null,
   "metadata": {},
   "outputs": [],
   "source": [
    "config['TELEGRAM']['ACCESS_TOKEN']"
   ]
  },
  {
   "cell_type": "code",
   "execution_count": null,
   "metadata": {},
   "outputs": [],
   "source": [
    "config['TELEGRAM']['WEBHOOK_URL']"
   ]
  },
  {
   "cell_type": "code",
   "execution_count": null,
   "metadata": {},
   "outputs": [],
   "source": [
    "access_token = config['TELEGRAM']['ACCESS_TOKEN']\n",
    "webhook_url = config['TELEGRAM']['WEBHOOK_URL']"
   ]
  },
  {
   "cell_type": "markdown",
   "metadata": {},
   "source": [
    "## delete webhook url"
   ]
  },
  {
   "cell_type": "code",
   "execution_count": null,
   "metadata": {},
   "outputs": [],
   "source": [
    "requests.post('https://api.telegram.org/bot'+access_token+'/deleteWebhook').text"
   ]
  },
  {
   "cell_type": "markdown",
   "metadata": {},
   "source": [
    "## set webhook url"
   ]
  },
  {
   "cell_type": "code",
   "execution_count": null,
   "metadata": {},
   "outputs": [],
   "source": [
    "import requests"
   ]
  },
  {
   "cell_type": "code",
   "execution_count": null,
   "metadata": {},
   "outputs": [],
   "source": [
    "requests.post('https://api.telegram.org/bot'+access_token+'/setWebhook?url='+webhook_url+'/hook').text"
   ]
  },
  {
   "cell_type": "code",
   "execution_count": null,
   "metadata": {},
   "outputs": [],
   "source": [
    "r = requests.get('http://127.0.0.1:8050/')\n",
    "print(r.status_code)"
   ]
  },
  {
   "cell_type": "code",
   "execution_count": null,
   "metadata": {},
   "outputs": [],
   "source": [
    "import pandas as pd\n",
    "df= pd.read_excel(\"/Users/lai/symbol_info.xlsx\")\n",
    "symbol_ID=[]\n",
    "for i in df[\"symbol_id\"]:\n",
    "    symbol_ID.append(i)\n"
   ]
  },
  {
   "cell_type": "code",
   "execution_count": null,
   "metadata": {
    "scrolled": true
   },
   "outputs": [],
   "source": [
    "# Initial Flask app\n",
    "app = Flask(__name__)\n",
    "\n",
    "# Initial bot by Telegram access token\n",
    "bot = telegram.Bot(token=config['TELEGRAM']['ACCESS_TOKEN'])\n",
    "\n",
    "\n",
    "\n",
    "@app.route('/hook', methods=['POST'])\n",
    "def webhook_handler():\n",
    "    if request.method == \"POST\":\n",
    "        update = telegram.Update.de_json(request.get_json(force=True), bot)\n",
    "        # Update dispatcher process that handler to process this message\n",
    "        dispatcher.process_update(update)\n",
    "        print(1)\n",
    "    return 'ok'\n",
    "\n",
    "# def help_handler(bot, update):\n",
    "#     update.message.reply_text('''您好 {},請輸入以下代碼\n",
    "#     /link : 參考網站\n",
    "#     /best5 :最佳五檔\n",
    "#     /priceReference :開盤參考價'''.format(update.message.from_user.name))\n",
    "#     print(4)\n",
    "    \n",
    "    \n",
    "def start_handler(bot, update):\n",
    "    user_id = update.message.from_user.name\n",
    "    update.message.reply_text('''您好 {},請輸入股票代碼'''.format(update.message.from_user.name))\n",
    "    print(0)\n",
    "\n",
    "def link(bot, update):\n",
    "    keyboard = [[InlineKeyboardButton('fugle', url = 'https://www.fugle.tw', callback_data='1'),\n",
    "                 InlineKeyboardButton('yahoo 股市', url = 'https://tw.stock.yahoo.com', callback_data='2'),]]\n",
    "\n",
    "\n",
    "    reply_markup = InlineKeyboardMarkup(keyboard)\n",
    "\n",
    "    update.message.reply_text('參考資料:', reply_markup=reply_markup)\n",
    "    print(6)\n",
    "\n",
    "\n",
    "a = []\n",
    "b = []\n",
    "c = []\n",
    "d = []\n",
    "def best5(bot, update):\n",
    "\n",
    "    s = intraday.quote(apiToken=api_token,symbolId=str(aa[0]),output=\"raw\")['order'] \n",
    "    s1 = s['bestAsks']\n",
    "    s2 = s['bestBids']\n",
    "    \n",
    "    for i in range(0,len(s1)):  \n",
    "        a.append(s1[i]['price'])\n",
    "        b.append(s1[i]['unit'])\n",
    "    for i in range(0,len(s2)):  \n",
    "        c.append(s2[i]['price'])\n",
    "        d.append(s2[i]['unit'])\n",
    "\n",
    "    aaa = \"bestAsks\"+\"\\n\"+\"price\"+ str(a)+\"\\n\"+\"unit\"+str(b)\n",
    "    bbb = 'bestBids'+\"\\n\"+\"price\"+str(c)+\"\\n\"+\"unit\"+str(d)\n",
    "    \n",
    "    update.message.reply_text(aaa)\n",
    "    update.message.reply_text(bbb)\n",
    "    \n",
    "    \n",
    "    \n",
    "    \n",
    "    \n",
    "#     best1=s['bestAsks']\n",
    "#     best2=s['bestBids']\n",
    "#     q=str(best1[0]['price'])\n",
    "#     qq=str(best1[1]['price'])\n",
    "#     qqq=str(best1[2]['price'])\n",
    "#     qqqq=str(best1[3]['price'])\n",
    "#     qqqqq=str(best1[4]['price'])\n",
    "#     w=str(best1[0]['unit'])\n",
    "#     ww=str(best1[1]['unit'])\n",
    "#     www=str(best1[2]['unit'])\n",
    "#     wwww=str(best1[3]['unit'])\n",
    "#     wwwww=str(best1[4]['unit'])\n",
    "\n",
    "#     e=str(best2[0]['price'])\n",
    "#     ee=str(best2[1]['price'])\n",
    "#     eee=str(best2[2]['price'])\n",
    "#     eeee=str(best2[3]['price'])\n",
    "#     eeeee=str(best2[4]['price'])\n",
    "#     r=str(best2[0]['unit'])\n",
    "#     rr=str(best2[1]['unit'])\n",
    "#     rrr=str(best2[2]['unit'])\n",
    "#     rrrr=str(best2[3]['unit'])\n",
    "#     rrrrr=str(best2[4]['unit'])\n",
    "#     rr=(\"bestAsks:\\n\"\n",
    "#         +\"[1]\",q,w ,\"\\n\"\n",
    "#         +\"[2]\",qq,ww ,\"\\n\"\n",
    "#         +\"[3]\",qqq,www ,\"\\n\"\n",
    "#         +\"[4]\",qqqq,wwww ,\"\\n\"\n",
    "#         +\"[5]\",qqqqq,wwwww ,\"\\n\"\n",
    "#         +\"bestBids:\\n\" \n",
    "#         +\"[1]\",e,r,\"\\n\" \n",
    "#         +\"[2]\",ee,rr,\"\\n\"\n",
    "#         +\"[3]\",eee,rrr,\"\\n\" \n",
    "#         +\"[4]\",eeee,rrrr,\"\\n\"\n",
    "#         +\"[5]\",eeeee,rrrrr)\n",
    "#     update.message.reply_text(rr)\n",
    "\n",
    "\n",
    "\n",
    "\n",
    "\n",
    "def priceReference(bot, update):\n",
    "    \n",
    "    q_data = intraday.meta(apiToken=api_token,symbolId=str(aa[0]),output=\"raw\")['priceReference']\n",
    "    qq_data = intraday.meta(apiToken=api_token,symbolId=str(aa[0]),output=\"raw\")['priceHighLimit']\n",
    "    qqq_data = intraday.meta(apiToken=api_token,symbolId=str(aa[0]),output=\"raw\")['priceLowLimit']\n",
    "    qq = 'priceReference'+ str(q_data)\n",
    "    qq1 = 'priceHighLimit'+ str(qq_data)\n",
    "    qq2 = 'priceLowLimit'+ str(qqq_data)\n",
    "#     print(qq)\n",
    "    update.message.reply_text(qq)\n",
    "    update.message.reply_text(qq1)\n",
    "    update.message.reply_text(qq2)\n",
    "    \n",
    "    print(qq)\n",
    "\n",
    "\n",
    "def open_close(bot, update):\n",
    "    a_data=intraday.chart(apiToken=api_token,symbolId=str(aa[0]))\n",
    "    \n",
    "    aaa=str(a_data.tail(1)[\"open\"])\n",
    "    bb=aaa.split(sep='    ')[1]\n",
    "    o=bb.split(sep=\"N\")[0]\n",
    "    \n",
    "    aab=str(a_data.tail(1)[\"close\"])\n",
    "    bb1=aab.split(sep='    ')[1]\n",
    "    o1=bb.split(sep=\"N\")[0]\n",
    "    \n",
    "    oc=\"開盤價:\"+ o \n",
    "    oc1=\"收盤價:\"+ o1\n",
    "    print(oc)\n",
    "    print(oc1)\n",
    "\n",
    "    update.message.reply_text(oc)\n",
    "    update.message.reply_text(oc1)\n",
    "\n",
    "    \n",
    "## reply message\n",
    "aa = []\n",
    "def reply_handler(bot, update):\n",
    "    text = update.message.text\n",
    "    user_id = update.message.from_user.name\n",
    "    if str(text) in symbol_ID:\n",
    "        qq='''請輸入\n",
    "        /best5 : 最佳五檔\n",
    "        /priceReference :開盤參考價\n",
    "        /open_close : 開盤、收盤價\n",
    "        /link :相關網站'''\n",
    "        update.message.reply_text(qq)\n",
    "        print(33)\n",
    "        aa.append(text)\n",
    "\n",
    "    else:\n",
    "        kk=\"請再輸入一遍\"\n",
    "        update.message.reply_text(kk)\n",
    "        print(22)\n",
    "\n",
    "\n",
    "\n",
    "# q_data = intraday.meta(apiToken=api_token,symbolId=\"1216\",output=\"raw\")['priceReference']\n",
    "# qq = 'priceReference'+ str(q_data)\n",
    "# print(qq)\n",
    "\n",
    "        \n",
    "        \n",
    "    \n",
    "\n",
    "    \n",
    "    \n",
    "# This class dispatches all kinds of updates to its registered handlers.\n",
    "dispatcher = Dispatcher(bot, None)\n",
    "##dispatcher.add_handler(CommandHandler('help', help_handler))\n",
    "dispatcher.add_handler(CommandHandler(\"start\", start_handler))\n",
    "dispatcher.add_handler(CommandHandler(\"link\", link))\n",
    "dispatcher.add_handler(CommandHandler(\"priceReference\", priceReference))\n",
    "dispatcher.add_handler(CommandHandler(\"best5\", best5))\n",
    "dispatcher.add_handler(CommandHandler(\"open_close\", open_close))\n",
    "\n",
    "dispatcher.add_handler(MessageHandler(Filters.text, reply_handler))\n",
    "\n",
    "if __name__ == '__main__':\n",
    "    app.run()"
   ]
  },
  {
   "cell_type": "code",
   "execution_count": null,
   "metadata": {},
   "outputs": [],
   "source": []
  },
  {
   "cell_type": "code",
   "execution_count": null,
   "metadata": {},
   "outputs": [],
   "source": []
  }
 ],
 "metadata": {
  "kernelspec": {
   "display_name": "Python 3",
   "language": "python",
   "name": "python3"
  },
  "language_info": {
   "codemirror_mode": {
    "name": "ipython",
    "version": 3
   },
   "file_extension": ".py",
   "mimetype": "text/x-python",
   "name": "python",
   "nbconvert_exporter": "python",
   "pygments_lexer": "ipython3",
   "version": "3.7.1"
  }
 },
 "nbformat": 4,
 "nbformat_minor": 4
}
